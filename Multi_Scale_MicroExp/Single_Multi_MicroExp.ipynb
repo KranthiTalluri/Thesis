{
 "cells": [
  {
   "cell_type": "markdown",
   "id": "5258058e",
   "metadata": {
    "tags": []
   },
   "source": [
    "### Import Statements"
   ]
  },
  {
   "cell_type": "code",
   "execution_count": 1,
   "id": "e3488caa-5a30-4876-b352-5ae8a93afcbd",
   "metadata": {},
   "outputs": [],
   "source": [
    "import os\n",
    "import cv2\n",
    "#import pylab\n",
    "import dlib\n",
    "import numpy as np\n",
    "import pandas as pd\n",
    "import skimage.io as imageio\n",
    "import sys\n",
    "import tensorflow as tf\n",
    "import keras\n",
    "from tqdm import tqdm\n",
    "from sklearn.metrics import confusion_matrix\n",
    "from keras.models import Sequential, Model\n",
    "from keras.layers.core import Dense, Dropout, Activation, Flatten\n",
    "from keras.layers.convolutional import Convolution3D, MaxPooling3D\n",
    "#from keras.utils import multi_gpu_model\n",
    "#from keras.optimizers import SGD, RMSprop\n",
    "from tensorflow.keras.optimizers import Adam\n",
    "from keras.layers import Concatenate, Input, concatenate, add, multiply, maximum, LSTM, Reshape\n",
    "from keras.callbacks import ModelCheckpoint, EarlyStopping\n",
    "from keras.utils import np_utils, generic_utils\n",
    "from sklearn.model_selection import train_test_split\n",
    "from sklearn import preprocessing\n",
    "from keras import backend as K\n",
    "import matplotlib.pyplot as plt\n",
    "%matplotlib inline\n",
    "import wandb\n",
    "from wandb.keras import WandbCallback"
   ]
  },
  {
   "cell_type": "code",
   "execution_count": null,
   "id": "a859bd18-5a6e-4e77-bde6-80ddf6b0cb63",
   "metadata": {},
   "outputs": [],
   "source": [
    "# 1a4c09702a0a953c947df0fba18a108a1d899c9b\n",
    "#wandb.init(config=tf.compat.v1.flags)\n",
    "wandb.init(config={\"hyper\": \"parameter\"})\n",
    "#estimator.train(hooks=[wandb.tensorflow.WandbHook(steps_per_log=10)])"
   ]
  },
  {
   "cell_type": "markdown",
   "id": "1c8ca99e",
   "metadata": {},
   "source": [
    "### GPU Check"
   ]
  },
  {
   "cell_type": "code",
   "execution_count": 2,
   "id": "4776d902",
   "metadata": {},
   "outputs": [],
   "source": [
    "gpu_available = tf.config.list_physical_devices('GPU')"
   ]
  },
  {
   "cell_type": "code",
   "execution_count": 3,
   "id": "6afb8ff5",
   "metadata": {},
   "outputs": [
    {
     "data": {
      "text/plain": [
       "[PhysicalDevice(name='/physical_device:GPU:0', device_type='GPU')]"
      ]
     },
     "execution_count": 3,
     "metadata": {},
     "output_type": "execute_result"
    }
   ],
   "source": [
    "gpu_available"
   ]
  },
  {
   "cell_type": "code",
   "execution_count": 4,
   "id": "7f82c1c0",
   "metadata": {
    "scrolled": true
   },
   "outputs": [
    {
     "name": "stdout",
     "output_type": "stream",
     "text": [
      "Num GPUs Available:  1\n"
     ]
    }
   ],
   "source": [
    "import tensorflow as tf\n",
    "print(\"Num GPUs Available: \", len(tf.config.list_physical_devices('GPU')))"
   ]
  },
  {
   "cell_type": "markdown",
   "id": "c5c48a2a",
   "metadata": {
    "tags": []
   },
   "source": [
    "### Loading Excel to DataFrame"
   ]
  },
  {
   "cell_type": "code",
   "execution_count": null,
   "id": "5e51a32c",
   "metadata": {},
   "outputs": [],
   "source": [
    "#df = pd.read_excel('/Thesis/Datasets/CASME2/CASME2-coding-20190701.xlsx') #index_col=0"
   ]
  },
  {
   "cell_type": "code",
   "execution_count": 5,
   "id": "1b384481-f69a-4838-9269-4e141bff4b45",
   "metadata": {},
   "outputs": [],
   "source": [
    "df = pd.read_excel('CASME2.xlsx') #index_col=0"
   ]
  },
  {
   "cell_type": "code",
   "execution_count": 6,
   "id": "a4ea6d85-0105-483e-963d-6ae07955ad10",
   "metadata": {},
   "outputs": [
    {
     "data": {
      "text/plain": [
       "Subject              510\n",
       "Filename             510\n",
       "Unnamed: 2             0\n",
       "OnsetFrame           510\n",
       "ApexFrame            510\n",
       "OffsetFrame          510\n",
       "Unnamed: 6             0\n",
       "Action Units         510\n",
       "Estimated Emotion    510\n",
       "Number of frames     510\n",
       "dtype: int64"
      ]
     },
     "execution_count": 6,
     "metadata": {},
     "output_type": "execute_result"
    }
   ],
   "source": [
    "df.count()"
   ]
  },
  {
   "cell_type": "code",
   "execution_count": 7,
   "id": "7a2cfc96",
   "metadata": {},
   "outputs": [
    {
     "data": {
      "text/plain": [
       "array(['happiness', 'others', 'disgust', 'repression', 'surprise', 'fear',\n",
       "       'sadness'], dtype=object)"
      ]
     },
     "execution_count": 7,
     "metadata": {},
     "output_type": "execute_result"
    }
   ],
   "source": [
    "df['Estimated Emotion'].unique()"
   ]
  },
  {
   "cell_type": "code",
   "execution_count": 8,
   "id": "ed366712",
   "metadata": {},
   "outputs": [
    {
     "data": {
      "text/html": [
       "<div>\n",
       "<style scoped>\n",
       "    .dataframe tbody tr th:only-of-type {\n",
       "        vertical-align: middle;\n",
       "    }\n",
       "\n",
       "    .dataframe tbody tr th {\n",
       "        vertical-align: top;\n",
       "    }\n",
       "\n",
       "    .dataframe thead th {\n",
       "        text-align: right;\n",
       "    }\n",
       "</style>\n",
       "<table border=\"1\" class=\"dataframe\">\n",
       "  <thead>\n",
       "    <tr style=\"text-align: right;\">\n",
       "      <th></th>\n",
       "      <th>Subject</th>\n",
       "      <th>Filename</th>\n",
       "      <th>Unnamed: 2</th>\n",
       "      <th>OnsetFrame</th>\n",
       "      <th>ApexFrame</th>\n",
       "      <th>OffsetFrame</th>\n",
       "      <th>Unnamed: 6</th>\n",
       "      <th>Action Units</th>\n",
       "      <th>Estimated Emotion</th>\n",
       "      <th>Number of frames</th>\n",
       "      <th>Sub_FileName</th>\n",
       "    </tr>\n",
       "  </thead>\n",
       "  <tbody>\n",
       "    <tr>\n",
       "      <th>0</th>\n",
       "      <td>1</td>\n",
       "      <td>EP02_01f</td>\n",
       "      <td>NaN</td>\n",
       "      <td>46</td>\n",
       "      <td>59</td>\n",
       "      <td>86</td>\n",
       "      <td>NaN</td>\n",
       "      <td>12</td>\n",
       "      <td>happiness</td>\n",
       "      <td>41</td>\n",
       "      <td>1_EP02_01f</td>\n",
       "    </tr>\n",
       "    <tr>\n",
       "      <th>1</th>\n",
       "      <td>1</td>\n",
       "      <td>EP03_02</td>\n",
       "      <td>NaN</td>\n",
       "      <td>131</td>\n",
       "      <td>139</td>\n",
       "      <td>161</td>\n",
       "      <td>NaN</td>\n",
       "      <td>18</td>\n",
       "      <td>others</td>\n",
       "      <td>31</td>\n",
       "      <td>1_EP03_02</td>\n",
       "    </tr>\n",
       "    <tr>\n",
       "      <th>2</th>\n",
       "      <td>1</td>\n",
       "      <td>EP04_02</td>\n",
       "      <td>NaN</td>\n",
       "      <td>21</td>\n",
       "      <td>54</td>\n",
       "      <td>76</td>\n",
       "      <td>NaN</td>\n",
       "      <td>4</td>\n",
       "      <td>others</td>\n",
       "      <td>56</td>\n",
       "      <td>1_EP04_02</td>\n",
       "    </tr>\n",
       "    <tr>\n",
       "      <th>3</th>\n",
       "      <td>1</td>\n",
       "      <td>EP04_03</td>\n",
       "      <td>NaN</td>\n",
       "      <td>31</td>\n",
       "      <td>41</td>\n",
       "      <td>56</td>\n",
       "      <td>NaN</td>\n",
       "      <td>4</td>\n",
       "      <td>others</td>\n",
       "      <td>26</td>\n",
       "      <td>1_EP04_03</td>\n",
       "    </tr>\n",
       "    <tr>\n",
       "      <th>4</th>\n",
       "      <td>1</td>\n",
       "      <td>EP04_04</td>\n",
       "      <td>NaN</td>\n",
       "      <td>23</td>\n",
       "      <td>49</td>\n",
       "      <td>66</td>\n",
       "      <td>NaN</td>\n",
       "      <td>4</td>\n",
       "      <td>others</td>\n",
       "      <td>44</td>\n",
       "      <td>1_EP04_04</td>\n",
       "    </tr>\n",
       "    <tr>\n",
       "      <th>...</th>\n",
       "      <td>...</td>\n",
       "      <td>...</td>\n",
       "      <td>...</td>\n",
       "      <td>...</td>\n",
       "      <td>...</td>\n",
       "      <td>...</td>\n",
       "      <td>...</td>\n",
       "      <td>...</td>\n",
       "      <td>...</td>\n",
       "      <td>...</td>\n",
       "      <td>...</td>\n",
       "    </tr>\n",
       "    <tr>\n",
       "      <th>505</th>\n",
       "      <td>26</td>\n",
       "      <td>EP18_46_aug</td>\n",
       "      <td>NaN</td>\n",
       "      <td>31</td>\n",
       "      <td>46</td>\n",
       "      <td>101</td>\n",
       "      <td>NaN</td>\n",
       "      <td>16</td>\n",
       "      <td>others</td>\n",
       "      <td>71</td>\n",
       "      <td>26_EP18_46_aug</td>\n",
       "    </tr>\n",
       "    <tr>\n",
       "      <th>506</th>\n",
       "      <td>26</td>\n",
       "      <td>EP18_47_aug</td>\n",
       "      <td>NaN</td>\n",
       "      <td>6</td>\n",
       "      <td>49</td>\n",
       "      <td>86</td>\n",
       "      <td>NaN</td>\n",
       "      <td>4</td>\n",
       "      <td>disgust</td>\n",
       "      <td>81</td>\n",
       "      <td>26_EP18_47_aug</td>\n",
       "    </tr>\n",
       "    <tr>\n",
       "      <th>507</th>\n",
       "      <td>26</td>\n",
       "      <td>EP18_49_aug</td>\n",
       "      <td>NaN</td>\n",
       "      <td>16</td>\n",
       "      <td>54</td>\n",
       "      <td>80</td>\n",
       "      <td>NaN</td>\n",
       "      <td>4</td>\n",
       "      <td>disgust</td>\n",
       "      <td>65</td>\n",
       "      <td>26_EP18_49_aug</td>\n",
       "    </tr>\n",
       "    <tr>\n",
       "      <th>508</th>\n",
       "      <td>26</td>\n",
       "      <td>EP18_50_aug</td>\n",
       "      <td>NaN</td>\n",
       "      <td>78</td>\n",
       "      <td>99</td>\n",
       "      <td>161</td>\n",
       "      <td>NaN</td>\n",
       "      <td>4</td>\n",
       "      <td>disgust</td>\n",
       "      <td>84</td>\n",
       "      <td>26_EP18_50_aug</td>\n",
       "    </tr>\n",
       "    <tr>\n",
       "      <th>509</th>\n",
       "      <td>26</td>\n",
       "      <td>EP18_51_aug</td>\n",
       "      <td>NaN</td>\n",
       "      <td>21</td>\n",
       "      <td>64</td>\n",
       "      <td>81</td>\n",
       "      <td>NaN</td>\n",
       "      <td>4+16</td>\n",
       "      <td>disgust</td>\n",
       "      <td>61</td>\n",
       "      <td>26_EP18_51_aug</td>\n",
       "    </tr>\n",
       "  </tbody>\n",
       "</table>\n",
       "<p>510 rows × 11 columns</p>\n",
       "</div>"
      ],
      "text/plain": [
       "    Subject     Filename  Unnamed: 2  OnsetFrame  ApexFrame  OffsetFrame  \\\n",
       "0         1     EP02_01f         NaN          46         59           86   \n",
       "1         1      EP03_02         NaN         131        139          161   \n",
       "2         1      EP04_02         NaN          21         54           76   \n",
       "3         1      EP04_03         NaN          31         41           56   \n",
       "4         1      EP04_04         NaN          23         49           66   \n",
       "..      ...          ...         ...         ...        ...          ...   \n",
       "505      26  EP18_46_aug         NaN          31         46          101   \n",
       "506      26  EP18_47_aug         NaN           6         49           86   \n",
       "507      26  EP18_49_aug         NaN          16         54           80   \n",
       "508      26  EP18_50_aug         NaN          78         99          161   \n",
       "509      26  EP18_51_aug         NaN          21         64           81   \n",
       "\n",
       "     Unnamed: 6 Action Units Estimated Emotion  Number of frames  \\\n",
       "0           NaN           12         happiness                41   \n",
       "1           NaN           18            others                31   \n",
       "2           NaN            4            others                56   \n",
       "3           NaN            4            others                26   \n",
       "4           NaN            4            others                44   \n",
       "..          ...          ...               ...               ...   \n",
       "505         NaN           16            others                71   \n",
       "506         NaN            4           disgust                81   \n",
       "507         NaN            4           disgust                65   \n",
       "508         NaN            4           disgust                84   \n",
       "509         NaN         4+16           disgust                61   \n",
       "\n",
       "       Sub_FileName  \n",
       "0        1_EP02_01f  \n",
       "1         1_EP03_02  \n",
       "2         1_EP04_02  \n",
       "3         1_EP04_03  \n",
       "4         1_EP04_04  \n",
       "..              ...  \n",
       "505  26_EP18_46_aug  \n",
       "506  26_EP18_47_aug  \n",
       "507  26_EP18_49_aug  \n",
       "508  26_EP18_50_aug  \n",
       "509  26_EP18_51_aug  \n",
       "\n",
       "[510 rows x 11 columns]"
      ]
     },
     "execution_count": 8,
     "metadata": {},
     "output_type": "execute_result"
    }
   ],
   "source": [
    "df['Subject'] = df['Subject'].astype(str)\n",
    "df['Sub_FileName'] = df[['Subject', 'Filename']].apply(lambda x: '_'.join(x), axis=1)\n",
    "df"
   ]
  },
  {
   "cell_type": "markdown",
   "id": "7b71cab1-a53b-4e81-bb93-5a6961447f01",
   "metadata": {},
   "source": [
    "### Combining from  7 classes to 3 classes"
   ]
  },
  {
   "cell_type": "code",
   "execution_count": null,
   "id": "c691e3b2-58af-446b-b8bf-928ff0f93ec0",
   "metadata": {},
   "outputs": [],
   "source": [
    "positive = df[(df['Estimated Emotion'] == 'happiness' )| (df['Estimated Emotion'] == 'surprise')][['Sub_FileName','ApexFrame','Number of frames']]\n",
    "print(positive)"
   ]
  },
  {
   "cell_type": "code",
   "execution_count": 9,
   "id": "c985482f-15e7-4896-b135-0ca450f6ec05",
   "metadata": {},
   "outputs": [
    {
     "name": "stdout",
     "output_type": "stream",
     "text": [
      "Positive : 120\n",
      "Negative : 192\n",
      "Neutral : 198\n"
     ]
    }
   ],
   "source": [
    "positive = df[(df['Estimated Emotion'] == 'happiness' )| (df['Estimated Emotion'] == 'surprise')][['Sub_FileName','ApexFrame','Number of frames']]\n",
    "print('Positive :', positive['Sub_FileName'].count())\n",
    "\n",
    "negative = df[(df['Estimated Emotion'] == 'disgust') | (df['Estimated Emotion'] == 'repression') | (df['Estimated Emotion'] == 'fear') | (df['Estimated Emotion'] == 'sadness')][['Sub_FileName','ApexFrame','Number of frames']]\n",
    "print('Negative :',negative['Sub_FileName'].count())\n",
    "\n",
    "neutral = df[df['Estimated Emotion']== 'others'][['Sub_FileName','ApexFrame','Number of frames']]\n",
    "print('Neutral :',neutral['Sub_FileName'].count())"
   ]
  },
  {
   "cell_type": "markdown",
   "id": "dbd0d191-0992-476e-b036-4e6abbdf2f97",
   "metadata": {},
   "source": [
    "### Augmentation function"
   ]
  },
  {
   "cell_type": "code",
   "execution_count": null,
   "id": "f2034175-680e-4609-ab5b-2aa36dc572bc",
   "metadata": {},
   "outputs": [],
   "source": [
    "def aug_images(subject, vd, img_count, img_flip_lr):\n",
    "    sub = str(subject)\n",
    "    video = str(vd) + '_aug/'\n",
    "    #main_dir = \"/Thesis/CASME2_RAW_selected/\"\n",
    "    main_dir = \"D:/Thesis/CASME2_RAW_selected/\"\n",
    "    sub_path = os.path.join(main_dir, sub) \n",
    "    os.makedirs(sub_path, exist_ok=True)\n",
    "    \n",
    "    newpath = str(main_dir + sub + '/')\n",
    "    frame_path = os.path.join(newpath, video)\n",
    "    frame_path = str(frame_path)\n",
    "    os.makedirs(frame_path, exist_ok=True)\n",
    "    \n",
    "    cv2.imwrite(os.path.join(frame_path , str(img_count)+'.jpg'), img_flip_lr)"
   ]
  },
  {
   "cell_type": "markdown",
   "id": "b9bad3b6-b109-4b27-b72c-83167f825445",
   "metadata": {},
   "source": [
    "### Creating Augmented data in the folders of Training data"
   ]
  },
  {
   "cell_type": "code",
   "execution_count": null,
   "id": "0f335963-1abf-44f9-95d9-1f119cacc0c2",
   "metadata": {},
   "outputs": [],
   "source": [
    "#labelpath =  '/Thesis/CASME2_RAW_selected/'\n",
    "labelpath =  'D:/Thesis/CASME2_RAW_selected/'\n",
    "directorylisting = os.listdir(labelpath)\n",
    "for subject in directorylisting:\n",
    "    count = 0\n",
    "    videopath = labelpath + subject + '/'\n",
    "    Num_videos = os.listdir(videopath)\n",
    "    for vd in Num_videos:\n",
    "        framepath = videopath + vd\n",
    "        framelisting = os.listdir(framepath)\n",
    "        count = count+1\n",
    "        img_count = 0\n",
    "        frames_len = len(framelisting)\n",
    "        framerange = [x  for x in range(frames_len)]\n",
    "        for frame in framerange:\n",
    "            img_count = img_count + 1\n",
    "            imagepath = framepath + '/' + framelisting[frame]\n",
    "            image = cv2.imread(imagepath)\n",
    "            img_flip_lr = cv2.flip(image, 1)\n",
    "            aug_images(subject, vd, img_count, img_flip_lr)\n",
    "        #print('subject : ', subject, '  Videos count : ',count, '  Frames count : ',img_count)"
   ]
  },
  {
   "cell_type": "markdown",
   "id": "6189a2a8",
   "metadata": {
    "tags": []
   },
   "source": [
    "### Pre-processing of frames"
   ]
  },
  {
   "cell_type": "code",
   "execution_count": 10,
   "id": "e0051297-e42a-468a-9955-ea7d9a2afeac",
   "metadata": {},
   "outputs": [],
   "source": [
    "training_casme_list = []\n",
    "onset_offset_frames = 8"
   ]
  },
  {
   "cell_type": "code",
   "execution_count": 11,
   "id": "336ad162-ea11-4176-a5a2-6bbb2495f5bf",
   "metadata": {},
   "outputs": [
    {
     "name": "stderr",
     "output_type": "stream",
     "text": [
      "120it [00:15,  7.73it/s]\n"
     ]
    },
    {
     "name": "stdout",
     "output_type": "stream",
     "text": [
      "108\n"
     ]
    },
    {
     "name": "stderr",
     "output_type": "stream",
     "text": [
      "192it [00:25,  7.65it/s]\n"
     ]
    },
    {
     "name": "stdout",
     "output_type": "stream",
     "text": [
      "164\n"
     ]
    },
    {
     "name": "stderr",
     "output_type": "stream",
     "text": [
      "198it [00:26,  7.37it/s]"
     ]
    },
    {
     "name": "stdout",
     "output_type": "stream",
     "text": [
      "166\n"
     ]
    },
    {
     "name": "stderr",
     "output_type": "stream",
     "text": [
      "\n"
     ]
    }
   ],
   "source": [
    "num = 0\n",
    "for lab in (positive['Sub_FileName'], negative['Sub_FileName'], neutral['Sub_FileName']): \n",
    "    subDirectory = lab#.tolist() \n",
    "    num = num + 1\n",
    "    i = 0\n",
    "    count = 0\n",
    "    for i, sub in tqdm(enumerate(subDirectory)):\n",
    "        sub = str(sub).split('_')\n",
    "        labelpath = 'D:/Thesis/CASME2_RAW_selected/'+'sub'+ sub[0].zfill(2) +'/'\n",
    "        directorylisting = os.listdir(labelpath)      \n",
    "        for video in directorylisting:\n",
    "            if video == str(sub[1]+'_'+sub[2]):\n",
    "                #frames = []\n",
    "                total_face_frames = []\n",
    "                if num == 1:\n",
    "                    ApexFrame = positive['ApexFrame'].iloc[i]\n",
    "                    ApexImage = 'img'+ str(ApexFrame) + '.jpg'\n",
    "                elif num == 2:\n",
    "                    ApexFrame = negative['ApexFrame'].iloc[i]\n",
    "                    ApexImage = 'img'+ str(ApexFrame) + '.jpg'\n",
    "                else:\n",
    "                    ApexFrame = neutral['ApexFrame'].iloc[i]\n",
    "                    ApexImage = 'img'+ str(ApexFrame) + '.jpg'\n",
    "                videopath = labelpath + video\n",
    "                framelisting = os.listdir(videopath)\n",
    "                for index, value in enumerate(framelisting):\n",
    "                    frames = []\n",
    "                    if str(value) == str(ApexImage):\n",
    "                        start = index - onset_offset_frames\n",
    "                        end = index + onset_offset_frames\n",
    "                        if (len(framelisting) > end) & (start > 0):\n",
    "                            # print('Subject : ', sub[0].zfill(2), ' video : ', video, ' ApexFrame : ', ApexFrame, '  Apex_Image : ', index, ' start : ', start, ' end : ', end )\n",
    "                            framerange = [x  for x in range(start, end)]\n",
    "                            count = count + 1\n",
    "                            for frame in framerange:\n",
    "                                imagepath = videopath + \"/\" + framelisting[frame]\n",
    "                                image = cv2.imread(imagepath)\n",
    "                                imageresize = cv2.resize(image, (140, 120), interpolation = cv2.INTER_AREA)\n",
    "                                grayimage = cv2.cvtColor(imageresize, cv2.COLOR_BGR2GRAY)\n",
    "                                image_dim = np.expand_dims(grayimage, axis=2)\n",
    "                                frames.append(image_dim)\n",
    "                            frames = np.asarray(frames)\n",
    "                            training_casme_list.append(frames)\n",
    "    print(count)"
   ]
  },
  {
   "cell_type": "code",
   "execution_count": 12,
   "id": "a46a799f-c10e-4ddb-8b3b-332deb621ca8",
   "metadata": {},
   "outputs": [
    {
     "data": {
      "text/plain": [
       "438"
      ]
     },
     "execution_count": 12,
     "metadata": {},
     "output_type": "execute_result"
    }
   ],
   "source": [
    "len(training_casme_list)"
   ]
  },
  {
   "cell_type": "code",
   "execution_count": 13,
   "id": "1471b156-aa00-4877-88ca-37cc53b4fa1b",
   "metadata": {},
   "outputs": [
    {
     "data": {
      "text/plain": [
       "(16, 120, 140, 1)"
      ]
     },
     "execution_count": 13,
     "metadata": {},
     "output_type": "execute_result"
    }
   ],
   "source": [
    "training_casme_list[2].shape"
   ]
  },
  {
   "cell_type": "code",
   "execution_count": 14,
   "id": "7ee108b0",
   "metadata": {},
   "outputs": [
    {
     "data": {
      "text/plain": [
       "272"
      ]
     },
     "execution_count": 14,
     "metadata": {},
     "output_type": "execute_result"
    }
   ],
   "source": [
    "108+164"
   ]
  },
  {
   "cell_type": "markdown",
   "id": "44adb646",
   "metadata": {
    "tags": []
   },
   "source": [
    "### Creating Target labels"
   ]
  },
  {
   "cell_type": "code",
   "execution_count": 15,
   "id": "379871d2",
   "metadata": {
    "tags": []
   },
   "outputs": [],
   "source": [
    "training_casme_list = np.asarray(training_casme_list)\n",
    "training_casme_samples = len(training_casme_list)\n",
    "\n",
    "training_casme_labels = np.zeros((training_casme_samples, ), dtype = int)\n",
    "\n",
    "training_casme_labels[0:108] = 0\n",
    "training_casme_labels[108:272] = 1\n",
    "training_casme_labels[272:438] = 2\n",
    "\n",
    "training_casme_labels = np_utils.to_categorical(training_casme_labels, 3)"
   ]
  },
  {
   "cell_type": "code",
   "execution_count": 16,
   "id": "6ef4745f-6e6d-4000-b378-abfa73689d7a",
   "metadata": {},
   "outputs": [],
   "source": [
    "training_casme_data = [training_casme_list, training_casme_labels]\n",
    "(training_casme_set, traininglabels_casme) = (training_casme_data[0], training_casme_data[1])"
   ]
  },
  {
   "cell_type": "code",
   "execution_count": 17,
   "id": "1bbcd11f-857c-411e-8ef2-4f42e4c84ef2",
   "metadata": {},
   "outputs": [],
   "source": [
    "training_casme_set = training_casme_set.astype('float32')\n",
    "training_casme_set -= np.mean(training_casme_set)\n",
    "training_casme_set /= np.max(training_casme_set)"
   ]
  },
  {
   "cell_type": "code",
   "execution_count": 18,
   "id": "b048a165",
   "metadata": {},
   "outputs": [
    {
     "data": {
      "text/plain": [
       "(438, 16, 120, 140, 1)"
      ]
     },
     "execution_count": 18,
     "metadata": {},
     "output_type": "execute_result"
    }
   ],
   "source": [
    "training_casme_set.shape"
   ]
  },
  {
   "cell_type": "markdown",
   "id": "f5ed54da",
   "metadata": {
    "tags": []
   },
   "source": [
    "#### Save Numpy Arrays"
   ]
  },
  {
   "cell_type": "code",
   "execution_count": 19,
   "id": "1edc8d28",
   "metadata": {},
   "outputs": [],
   "source": [
    "# Save Nump Arrays to save time\n",
    "np.save('D:/Thesis/Multi_Scale_MicroExp/Sample_datasets/microexp_casme_images.npy', training_casme_set)\n",
    "np.save('D:/Thesis/Multi_Scale_MicroExp/Sample_datasets/microexp_casme_labels_onehot.npy', training_casme_labels)\n",
    "#np.save('D:/Thesis/Multi_Scale_MicroExp/Sample_datasets/microexp_casme_labels_noonehot.npy', training_casme_labels)"
   ]
  },
  {
   "cell_type": "markdown",
   "id": "c09e6e89",
   "metadata": {
    "tags": []
   },
   "source": [
    "#### Loading Numpy arrays"
   ]
  },
  {
   "cell_type": "code",
   "execution_count": 20,
   "id": "228e4dc7",
   "metadata": {},
   "outputs": [
    {
     "name": "stdout",
     "output_type": "stream",
     "text": [
      "Training data shape :  (438, 16, 120, 140, 1)\n",
      "Training label shape :  (438, 3)\n"
     ]
    }
   ],
   "source": [
    "training_casme_set = None\n",
    "training_casme_labels = None\n",
    "training_casme_set  = np.load('D:/Thesis/Multi_Scale_MicroExp/Sample_datasets/microexp_casme_images.npy')\n",
    "training_casme_labels = np.load('D:/Thesis/Multi_Scale_MicroExp/Sample_datasets/microexp_casme_labels_onehot.npy')\n",
    "#training_casme_labels = np.load('D:/Thesis/Multi_Scale_MicroExp/Sample_datasets/microexp_casme_labels_noonehot.npy')\n",
    "\n",
    "print('Training data shape : ', training_casme_set.shape)\n",
    "print('Training label shape : ',training_casme_labels.shape)"
   ]
  },
  {
   "cell_type": "markdown",
   "id": "58ee2992-0b6b-4542-bf33-32e6ab8d9c1c",
   "metadata": {},
   "source": [
    "### Model"
   ]
  },
  {
   "cell_type": "code",
   "execution_count": 21,
   "id": "4e177ced-d4eb-4004-8fbf-aa1609d1fb59",
   "metadata": {},
   "outputs": [
    {
     "name": "stdout",
     "output_type": "stream",
     "text": [
      "Model: \"TfModel\"\n",
      "_________________________________________________________________\n",
      "Layer (type)                 Output Shape              Param #   \n",
      "=================================================================\n",
      "conv3d (Conv3D)              (None, 14, 118, 138, 16)  448       \n",
      "_________________________________________________________________\n",
      "max_pooling3d (MaxPooling3D) (None, 4, 39, 46, 16)     0         \n",
      "_________________________________________________________________\n",
      "dropout (Dropout)            (None, 4, 39, 46, 16)     0         \n",
      "_________________________________________________________________\n",
      "flatten (Flatten)            (None, 114816)            0         \n",
      "_________________________________________________________________\n",
      "dense (Dense)                (None, 128)               14696576  \n",
      "_________________________________________________________________\n",
      "dropout_1 (Dropout)          (None, 128)               0         \n",
      "_________________________________________________________________\n",
      "dense_1 (Dense)              (None, 3)                 387       \n",
      "_________________________________________________________________\n",
      "activation (Activation)      (None, 3)                 0         \n",
      "=================================================================\n",
      "Total params: 14,697,411\n",
      "Trainable params: 14,697,411\n",
      "Non-trainable params: 0\n",
      "_________________________________________________________________\n"
     ]
    }
   ],
   "source": [
    "model = None\n",
    "model = Sequential(name='TfModel')\n",
    "model.add(Convolution3D(16, (3, 3, 3), input_shape=(16, 120, 140, 1), activation='relu'))\n",
    "model.add(MaxPooling3D(pool_size=(3, 3, 3)))\n",
    "model.add(Dropout(0.5))\n",
    "model.add(Flatten())\n",
    "model.add(Dense(128, activation='relu'))\n",
    "model.add(Dropout(0.5))\n",
    "model.add(Dense(3))\n",
    "model.add(Activation('softmax'))\n",
    "\n",
    "model.compile(loss = 'categorical_crossentropy', optimizer = 'ADAM', metrics = ['accuracy'])\n",
    "\n",
    "model.summary()"
   ]
  },
  {
   "cell_type": "markdown",
   "id": "f4e86627-9d4b-4460-a0df-856c6dfa148b",
   "metadata": {},
   "source": [
    "#### Model Compile"
   ]
  },
  {
   "cell_type": "code",
   "execution_count": null,
   "id": "760bf393-b6a8-47ac-9298-e42b9155e4b8",
   "metadata": {},
   "outputs": [],
   "source": [
    "initial_learning_rate = 0.001\n",
    "\n",
    "lr_schedule = tf.keras.optimizers.schedules.ExponentialDecay(initial_learning_rate, decay_steps=10, decay_rate=0.50, staircase=True)\n",
    "\n",
    "func_model.compile( loss=\"categorical_crossentropy\", optimizer= tf.keras.optimizers.Adam(learning_rate=lr_schedule), metrics=['accuracy'])"
   ]
  },
  {
   "cell_type": "markdown",
   "id": "db381c68-91cc-4952-ab00-b3bfc56c9e2a",
   "metadata": {},
   "source": [
    "#### Creating checkpoints"
   ]
  },
  {
   "cell_type": "code",
   "execution_count": 22,
   "id": "bf22e16a-8566-41f6-acc1-de5461aa377a",
   "metadata": {},
   "outputs": [],
   "source": [
    "filepath=\"D:/Thesis/Multi_Scale_MicroExp/Sample_datasets/weights_microexp/weights-improvement-{epoch:02d}-{val_accuracy:.2f}.hdf5\"\n",
    "\n",
    "checkpoint = ModelCheckpoint(filepath, monitor='val_accuracy', verbose=1, save_best_only=True, mode='max')\n",
    "\n",
    "early_stopping = EarlyStopping(monitor=\"val_accuracy\", patience=25)\n",
    "\n",
    "callbacks_list = [checkpoint, early_stopping]  #WandbCallback()"
   ]
  },
  {
   "cell_type": "markdown",
   "id": "b36ebf60-8672-496d-8826-d2aeffb3613f",
   "metadata": {},
   "source": [
    "#### Spliting the dataset into training and validation sets"
   ]
  },
  {
   "cell_type": "code",
   "execution_count": 23,
   "id": "b8f58faf-02e2-4c4e-a119-0237d4a01c5a",
   "metadata": {},
   "outputs": [],
   "source": [
    "train_images, test_images, train_labels, test_labels =  train_test_split(training_casme_set, training_casme_labels, test_size=0.1, random_state=4)"
   ]
  },
  {
   "cell_type": "code",
   "execution_count": 24,
   "id": "34f238ff-7037-40de-af28-f8c3a7ed390a",
   "metadata": {},
   "outputs": [],
   "source": [
    "train_images, validation_images, train_labels, validation_labels =  train_test_split(train_images, train_labels, test_size=0.1, random_state=4)"
   ]
  },
  {
   "cell_type": "code",
   "execution_count": 25,
   "id": "15df7c50-a4f8-49d7-b6d6-b1fccfd4d2d9",
   "metadata": {},
   "outputs": [
    {
     "name": "stdout",
     "output_type": "stream",
     "text": [
      "Train images size  (354, 16, 120, 140, 1)\n",
      "Validation images size  (40, 16, 120, 140, 1)\n",
      "Test images size  (44, 16, 120, 140, 1)\n"
     ]
    }
   ],
   "source": [
    "print(\"Train images size \", train_images.shape)\n",
    "print(\"Validation images size \", validation_images.shape)\n",
    "print(\"Test images size \", test_images.shape)"
   ]
  },
  {
   "cell_type": "markdown",
   "id": "37eeb2e1-108d-4fca-b6cc-9ffced1640ba",
   "metadata": {},
   "source": [
    "#### Training the model"
   ]
  },
  {
   "cell_type": "code",
   "execution_count": 26,
   "id": "ffd79389-9297-4c36-ab36-be7aac19f815",
   "metadata": {},
   "outputs": [
    {
     "name": "stdout",
     "output_type": "stream",
     "text": [
      "Epoch 1/100\n",
      "45/45 [==============================] - 10s 57ms/step - loss: 4.0211 - accuracy: 0.4237 - val_loss: 0.9765 - val_accuracy: 0.5500\n",
      "\n",
      "Epoch 00001: val_accuracy improved from -inf to 0.55000, saving model to D:/Thesis/Multi_Scale_MicroExp/Sample_datasets/weights_microexp\\weights-improvement-01-0.55.hdf5\n",
      "Epoch 2/100\n",
      "45/45 [==============================] - 2s 48ms/step - loss: 0.9113 - accuracy: 0.5791 - val_loss: 0.8718 - val_accuracy: 0.6500\n",
      "\n",
      "Epoch 00002: val_accuracy improved from 0.55000 to 0.65000, saving model to D:/Thesis/Multi_Scale_MicroExp/Sample_datasets/weights_microexp\\weights-improvement-02-0.65.hdf5\n",
      "Epoch 3/100\n",
      "45/45 [==============================] - 2s 46ms/step - loss: 0.7991 - accuracy: 0.6723 - val_loss: 0.8259 - val_accuracy: 0.6250\n",
      "\n",
      "Epoch 00003: val_accuracy did not improve from 0.65000\n",
      "Epoch 4/100\n",
      "45/45 [==============================] - 2s 47ms/step - loss: 0.7213 - accuracy: 0.7062 - val_loss: 0.6940 - val_accuracy: 0.6750\n",
      "\n",
      "Epoch 00004: val_accuracy improved from 0.65000 to 0.67500, saving model to D:/Thesis/Multi_Scale_MicroExp/Sample_datasets/weights_microexp\\weights-improvement-04-0.68.hdf5\n",
      "Epoch 5/100\n",
      "45/45 [==============================] - 2s 46ms/step - loss: 0.6780 - accuracy: 0.7034 - val_loss: 0.7770 - val_accuracy: 0.7000\n",
      "\n",
      "Epoch 00005: val_accuracy improved from 0.67500 to 0.70000, saving model to D:/Thesis/Multi_Scale_MicroExp/Sample_datasets/weights_microexp\\weights-improvement-05-0.70.hdf5\n",
      "Epoch 6/100\n",
      "45/45 [==============================] - 2s 49ms/step - loss: 0.5762 - accuracy: 0.7486 - val_loss: 0.8544 - val_accuracy: 0.7000\n",
      "\n",
      "Epoch 00006: val_accuracy did not improve from 0.70000\n",
      "Epoch 7/100\n",
      "45/45 [==============================] - 2s 50ms/step - loss: 0.5192 - accuracy: 0.8051 - val_loss: 0.5955 - val_accuracy: 0.7250\n",
      "\n",
      "Epoch 00007: val_accuracy improved from 0.70000 to 0.72500, saving model to D:/Thesis/Multi_Scale_MicroExp/Sample_datasets/weights_microexp\\weights-improvement-07-0.73.hdf5\n",
      "Epoch 8/100\n",
      "45/45 [==============================] - 2s 47ms/step - loss: 0.4791 - accuracy: 0.8079 - val_loss: 0.5729 - val_accuracy: 0.8000\n",
      "\n",
      "Epoch 00008: val_accuracy improved from 0.72500 to 0.80000, saving model to D:/Thesis/Multi_Scale_MicroExp/Sample_datasets/weights_microexp\\weights-improvement-08-0.80.hdf5\n",
      "Epoch 9/100\n",
      "45/45 [==============================] - 2s 48ms/step - loss: 0.4590 - accuracy: 0.8220 - val_loss: 0.4165 - val_accuracy: 0.8250\n",
      "\n",
      "Epoch 00009: val_accuracy improved from 0.80000 to 0.82500, saving model to D:/Thesis/Multi_Scale_MicroExp/Sample_datasets/weights_microexp\\weights-improvement-09-0.82.hdf5\n",
      "Epoch 10/100\n",
      "45/45 [==============================] - 2s 48ms/step - loss: 0.4055 - accuracy: 0.8136 - val_loss: 0.4891 - val_accuracy: 0.8250\n",
      "\n",
      "Epoch 00010: val_accuracy did not improve from 0.82500\n",
      "Epoch 11/100\n",
      "45/45 [==============================] - 2s 49ms/step - loss: 0.3709 - accuracy: 0.8446 - val_loss: 0.3395 - val_accuracy: 0.9000\n",
      "\n",
      "Epoch 00011: val_accuracy improved from 0.82500 to 0.90000, saving model to D:/Thesis/Multi_Scale_MicroExp/Sample_datasets/weights_microexp\\weights-improvement-11-0.90.hdf5\n",
      "Epoch 12/100\n",
      "45/45 [==============================] - 2s 47ms/step - loss: 0.3568 - accuracy: 0.8588 - val_loss: 0.3737 - val_accuracy: 0.8000\n",
      "\n",
      "Epoch 00012: val_accuracy did not improve from 0.90000\n",
      "Epoch 13/100\n",
      "45/45 [==============================] - 2s 47ms/step - loss: 0.3124 - accuracy: 0.8785 - val_loss: 0.4217 - val_accuracy: 0.7750\n",
      "\n",
      "Epoch 00013: val_accuracy did not improve from 0.90000\n",
      "Epoch 14/100\n",
      "45/45 [==============================] - 2s 47ms/step - loss: 0.2936 - accuracy: 0.8842 - val_loss: 0.3521 - val_accuracy: 0.8000\n",
      "\n",
      "Epoch 00014: val_accuracy did not improve from 0.90000\n",
      "Epoch 15/100\n",
      "45/45 [==============================] - 2s 48ms/step - loss: 0.2792 - accuracy: 0.8814 - val_loss: 0.2471 - val_accuracy: 0.8500\n",
      "\n",
      "Epoch 00015: val_accuracy did not improve from 0.90000\n",
      "Epoch 16/100\n",
      "45/45 [==============================] - 2s 47ms/step - loss: 0.2607 - accuracy: 0.8870 - val_loss: 0.2337 - val_accuracy: 0.8750\n",
      "\n",
      "Epoch 00016: val_accuracy did not improve from 0.90000\n",
      "Epoch 17/100\n",
      "45/45 [==============================] - 2s 47ms/step - loss: 0.2486 - accuracy: 0.8955 - val_loss: 0.3481 - val_accuracy: 0.8000\n",
      "\n",
      "Epoch 00017: val_accuracy did not improve from 0.90000\n",
      "Epoch 18/100\n",
      "45/45 [==============================] - 2s 49ms/step - loss: 0.2783 - accuracy: 0.8983 - val_loss: 0.2078 - val_accuracy: 0.9500\n",
      "\n",
      "Epoch 00018: val_accuracy improved from 0.90000 to 0.95000, saving model to D:/Thesis/Multi_Scale_MicroExp/Sample_datasets/weights_microexp\\weights-improvement-18-0.95.hdf5\n",
      "Epoch 19/100\n",
      "45/45 [==============================] - 2s 50ms/step - loss: 0.2511 - accuracy: 0.8983 - val_loss: 0.2011 - val_accuracy: 0.9000\n",
      "\n",
      "Epoch 00019: val_accuracy did not improve from 0.95000\n",
      "Epoch 20/100\n",
      "45/45 [==============================] - 2s 49ms/step - loss: 0.2470 - accuracy: 0.9040 - val_loss: 0.2389 - val_accuracy: 0.8750\n",
      "\n",
      "Epoch 00020: val_accuracy did not improve from 0.95000\n",
      "Epoch 21/100\n",
      "45/45 [==============================] - 2s 48ms/step - loss: 0.2421 - accuracy: 0.8955 - val_loss: 0.2512 - val_accuracy: 0.8250\n",
      "\n",
      "Epoch 00021: val_accuracy did not improve from 0.95000\n",
      "Epoch 22/100\n",
      "45/45 [==============================] - 2s 50ms/step - loss: 0.2211 - accuracy: 0.8955 - val_loss: 0.2755 - val_accuracy: 0.8500\n",
      "\n",
      "Epoch 00022: val_accuracy did not improve from 0.95000\n",
      "Epoch 23/100\n",
      "45/45 [==============================] - 2s 50ms/step - loss: 0.2398 - accuracy: 0.9011 - val_loss: 0.1912 - val_accuracy: 0.9000\n",
      "\n",
      "Epoch 00023: val_accuracy did not improve from 0.95000\n",
      "Epoch 24/100\n",
      "45/45 [==============================] - 2s 50ms/step - loss: 0.1826 - accuracy: 0.9209 - val_loss: 0.1684 - val_accuracy: 0.9500\n",
      "\n",
      "Epoch 00024: val_accuracy did not improve from 0.95000\n",
      "Epoch 25/100\n",
      "45/45 [==============================] - 2s 50ms/step - loss: 0.2157 - accuracy: 0.8898 - val_loss: 0.2303 - val_accuracy: 0.9000\n",
      "\n",
      "Epoch 00025: val_accuracy did not improve from 0.95000\n",
      "Epoch 26/100\n",
      "45/45 [==============================] - 2s 50ms/step - loss: 0.2486 - accuracy: 0.9096 - val_loss: 0.1499 - val_accuracy: 0.9500\n",
      "\n",
      "Epoch 00026: val_accuracy did not improve from 0.95000\n",
      "Epoch 27/100\n",
      "45/45 [==============================] - 2s 51ms/step - loss: 0.2168 - accuracy: 0.8955 - val_loss: 0.2258 - val_accuracy: 0.8500\n",
      "\n",
      "Epoch 00027: val_accuracy did not improve from 0.95000\n",
      "Epoch 28/100\n",
      "45/45 [==============================] - 2s 50ms/step - loss: 0.1937 - accuracy: 0.8983 - val_loss: 0.2074 - val_accuracy: 0.8750\n",
      "\n",
      "Epoch 00028: val_accuracy did not improve from 0.95000\n",
      "Epoch 29/100\n",
      "45/45 [==============================] - 2s 50ms/step - loss: 0.2153 - accuracy: 0.9040 - val_loss: 0.1768 - val_accuracy: 0.9250\n",
      "\n",
      "Epoch 00029: val_accuracy did not improve from 0.95000\n",
      "Epoch 30/100\n",
      "45/45 [==============================] - 2s 51ms/step - loss: 0.1772 - accuracy: 0.9181 - val_loss: 0.1988 - val_accuracy: 0.9000\n",
      "\n",
      "Epoch 00030: val_accuracy did not improve from 0.95000\n",
      "Epoch 31/100\n",
      "45/45 [==============================] - 2s 49ms/step - loss: 0.1726 - accuracy: 0.9153 - val_loss: 0.1411 - val_accuracy: 0.9500\n",
      "\n",
      "Epoch 00031: val_accuracy did not improve from 0.95000\n",
      "Epoch 32/100\n",
      "45/45 [==============================] - 2s 50ms/step - loss: 0.1736 - accuracy: 0.9209 - val_loss: 0.2070 - val_accuracy: 0.8750\n",
      "\n",
      "Epoch 00032: val_accuracy did not improve from 0.95000\n",
      "Epoch 33/100\n",
      "45/45 [==============================] - 2s 50ms/step - loss: 0.1957 - accuracy: 0.9096 - val_loss: 0.1304 - val_accuracy: 0.9500\n",
      "\n",
      "Epoch 00033: val_accuracy did not improve from 0.95000\n",
      "Epoch 34/100\n",
      "45/45 [==============================] - 2s 50ms/step - loss: 0.1442 - accuracy: 0.9322 - val_loss: 0.1331 - val_accuracy: 0.9250\n",
      "\n",
      "Epoch 00034: val_accuracy did not improve from 0.95000\n",
      "Epoch 35/100\n",
      "45/45 [==============================] - 2s 49ms/step - loss: 0.1471 - accuracy: 0.9379 - val_loss: 0.1859 - val_accuracy: 0.8750\n",
      "\n",
      "Epoch 00035: val_accuracy did not improve from 0.95000\n",
      "Epoch 36/100\n",
      "45/45 [==============================] - 2s 49ms/step - loss: 0.1549 - accuracy: 0.9350 - val_loss: 0.1143 - val_accuracy: 0.9250\n",
      "\n",
      "Epoch 00036: val_accuracy did not improve from 0.95000\n",
      "Epoch 37/100\n",
      "45/45 [==============================] - 2s 50ms/step - loss: 0.1378 - accuracy: 0.9379 - val_loss: 0.1126 - val_accuracy: 0.9500\n",
      "\n",
      "Epoch 00037: val_accuracy did not improve from 0.95000\n",
      "Epoch 38/100\n",
      "45/45 [==============================] - 2s 50ms/step - loss: 0.1186 - accuracy: 0.9520 - val_loss: 0.1273 - val_accuracy: 0.9750\n",
      "\n",
      "Epoch 00038: val_accuracy improved from 0.95000 to 0.97500, saving model to D:/Thesis/Multi_Scale_MicroExp/Sample_datasets/weights_microexp\\weights-improvement-38-0.98.hdf5\n",
      "Epoch 39/100\n",
      "45/45 [==============================] - 2s 51ms/step - loss: 0.1229 - accuracy: 0.9548 - val_loss: 0.1595 - val_accuracy: 0.9250\n",
      "\n",
      "Epoch 00039: val_accuracy did not improve from 0.97500\n",
      "Epoch 40/100\n",
      "45/45 [==============================] - 2s 50ms/step - loss: 0.1754 - accuracy: 0.9209 - val_loss: 0.1345 - val_accuracy: 0.9250\n",
      "\n",
      "Epoch 00040: val_accuracy did not improve from 0.97500\n",
      "Epoch 41/100\n",
      "45/45 [==============================] - 2s 50ms/step - loss: 0.1418 - accuracy: 0.9407 - val_loss: 0.1701 - val_accuracy: 0.9250\n",
      "\n",
      "Epoch 00041: val_accuracy did not improve from 0.97500\n",
      "Epoch 42/100\n",
      "45/45 [==============================] - 2s 50ms/step - loss: 0.1221 - accuracy: 0.9379 - val_loss: 0.1241 - val_accuracy: 0.9000\n",
      "\n",
      "Epoch 00042: val_accuracy did not improve from 0.97500\n",
      "Epoch 43/100\n",
      "45/45 [==============================] - 2s 49ms/step - loss: 0.1671 - accuracy: 0.9379 - val_loss: 0.1133 - val_accuracy: 0.9500\n",
      "\n",
      "Epoch 00043: val_accuracy did not improve from 0.97500\n",
      "Epoch 44/100\n",
      "45/45 [==============================] - 2s 49ms/step - loss: 0.1277 - accuracy: 0.9463 - val_loss: 0.1037 - val_accuracy: 0.9250\n",
      "\n",
      "Epoch 00044: val_accuracy did not improve from 0.97500\n",
      "Epoch 45/100\n",
      "45/45 [==============================] - 2s 51ms/step - loss: 0.1298 - accuracy: 0.9322 - val_loss: 0.1041 - val_accuracy: 0.9750\n",
      "\n",
      "Epoch 00045: val_accuracy did not improve from 0.97500\n",
      "Epoch 46/100\n",
      "45/45 [==============================] - 2s 50ms/step - loss: 0.0969 - accuracy: 0.9661 - val_loss: 0.0920 - val_accuracy: 0.9500\n",
      "\n",
      "Epoch 00046: val_accuracy did not improve from 0.97500\n",
      "Epoch 47/100\n",
      "45/45 [==============================] - 2s 50ms/step - loss: 0.1027 - accuracy: 0.9407 - val_loss: 0.1013 - val_accuracy: 0.9750\n",
      "\n",
      "Epoch 00047: val_accuracy did not improve from 0.97500\n",
      "Epoch 48/100\n",
      "45/45 [==============================] - 2s 48ms/step - loss: 0.1275 - accuracy: 0.9379 - val_loss: 0.0906 - val_accuracy: 0.9500\n",
      "\n",
      "Epoch 00048: val_accuracy did not improve from 0.97500\n",
      "Epoch 49/100\n",
      "45/45 [==============================] - 2s 50ms/step - loss: 0.1054 - accuracy: 0.9492 - val_loss: 0.0983 - val_accuracy: 0.9250\n",
      "\n",
      "Epoch 00049: val_accuracy did not improve from 0.97500\n",
      "Epoch 50/100\n",
      "45/45 [==============================] - 2s 51ms/step - loss: 0.1338 - accuracy: 0.9350 - val_loss: 0.1343 - val_accuracy: 0.9500\n",
      "\n",
      "Epoch 00050: val_accuracy did not improve from 0.97500\n",
      "Epoch 51/100\n",
      "45/45 [==============================] - 2s 49ms/step - loss: 0.1165 - accuracy: 0.9605 - val_loss: 0.0620 - val_accuracy: 1.0000\n",
      "\n",
      "Epoch 00051: val_accuracy improved from 0.97500 to 1.00000, saving model to D:/Thesis/Multi_Scale_MicroExp/Sample_datasets/weights_microexp\\weights-improvement-51-1.00.hdf5\n",
      "Epoch 52/100\n",
      "45/45 [==============================] - 2s 49ms/step - loss: 0.1448 - accuracy: 0.9463 - val_loss: 0.0672 - val_accuracy: 1.0000\n",
      "\n",
      "Epoch 00052: val_accuracy did not improve from 1.00000\n",
      "Epoch 53/100\n",
      "45/45 [==============================] - 2s 49ms/step - loss: 0.1273 - accuracy: 0.9350 - val_loss: 0.0975 - val_accuracy: 1.0000\n",
      "\n",
      "Epoch 00053: val_accuracy did not improve from 1.00000\n",
      "Epoch 54/100\n",
      "45/45 [==============================] - 2s 51ms/step - loss: 0.1343 - accuracy: 0.9463 - val_loss: 0.1212 - val_accuracy: 0.9000\n",
      "\n",
      "Epoch 00054: val_accuracy did not improve from 1.00000\n",
      "Epoch 55/100\n",
      "45/45 [==============================] - 2s 50ms/step - loss: 0.1158 - accuracy: 0.9435 - val_loss: 0.1008 - val_accuracy: 0.9750\n",
      "\n",
      "Epoch 00055: val_accuracy did not improve from 1.00000\n",
      "Epoch 56/100\n",
      "45/45 [==============================] - 2s 50ms/step - loss: 0.0946 - accuracy: 0.9661 - val_loss: 0.0770 - val_accuracy: 1.0000\n",
      "\n",
      "Epoch 00056: val_accuracy did not improve from 1.00000\n",
      "Epoch 57/100\n",
      "45/45 [==============================] - 2s 51ms/step - loss: 0.1312 - accuracy: 0.9435 - val_loss: 0.0604 - val_accuracy: 0.9750\n",
      "\n",
      "Epoch 00057: val_accuracy did not improve from 1.00000\n",
      "Epoch 58/100\n",
      "45/45 [==============================] - 2s 51ms/step - loss: 0.1417 - accuracy: 0.9350 - val_loss: 0.0648 - val_accuracy: 0.9750\n",
      "\n",
      "Epoch 00058: val_accuracy did not improve from 1.00000\n",
      "Epoch 59/100\n",
      "45/45 [==============================] - 2s 50ms/step - loss: 0.1401 - accuracy: 0.9576 - val_loss: 0.0481 - val_accuracy: 1.0000\n",
      "\n",
      "Epoch 00059: val_accuracy did not improve from 1.00000\n",
      "Epoch 60/100\n",
      "45/45 [==============================] - 2s 51ms/step - loss: 0.1336 - accuracy: 0.9379 - val_loss: 0.0551 - val_accuracy: 1.0000\n",
      "\n",
      "Epoch 00060: val_accuracy did not improve from 1.00000\n",
      "Epoch 61/100\n",
      "45/45 [==============================] - 2s 51ms/step - loss: 0.0781 - accuracy: 0.9661 - val_loss: 0.0390 - val_accuracy: 1.0000\n",
      "\n",
      "Epoch 00061: val_accuracy did not improve from 1.00000\n",
      "Epoch 62/100\n",
      "45/45 [==============================] - 2s 50ms/step - loss: 0.1046 - accuracy: 0.9548 - val_loss: 0.0348 - val_accuracy: 1.0000\n",
      "\n",
      "Epoch 00062: val_accuracy did not improve from 1.00000\n",
      "Epoch 63/100\n",
      "45/45 [==============================] - 2s 50ms/step - loss: 0.1011 - accuracy: 0.9435 - val_loss: 0.0532 - val_accuracy: 1.0000\n",
      "\n",
      "Epoch 00063: val_accuracy did not improve from 1.00000\n",
      "Epoch 64/100\n",
      "45/45 [==============================] - 2s 51ms/step - loss: 0.1285 - accuracy: 0.9407 - val_loss: 0.0955 - val_accuracy: 0.9500\n",
      "\n",
      "Epoch 00064: val_accuracy did not improve from 1.00000\n",
      "Epoch 65/100\n",
      "45/45 [==============================] - 2s 52ms/step - loss: 0.0847 - accuracy: 0.9633 - val_loss: 0.0499 - val_accuracy: 1.0000\n",
      "\n",
      "Epoch 00065: val_accuracy did not improve from 1.00000\n",
      "Epoch 66/100\n",
      "45/45 [==============================] - 2s 50ms/step - loss: 0.1079 - accuracy: 0.9605 - val_loss: 0.0377 - val_accuracy: 1.0000\n",
      "\n",
      "Epoch 00066: val_accuracy did not improve from 1.00000\n",
      "Epoch 67/100\n",
      "45/45 [==============================] - 2s 50ms/step - loss: 0.0953 - accuracy: 0.9661 - val_loss: 0.1257 - val_accuracy: 0.9500\n",
      "\n",
      "Epoch 00067: val_accuracy did not improve from 1.00000\n",
      "Epoch 68/100\n",
      "45/45 [==============================] - 2s 51ms/step - loss: 0.0892 - accuracy: 0.9661 - val_loss: 0.0222 - val_accuracy: 1.0000\n",
      "\n",
      "Epoch 00068: val_accuracy did not improve from 1.00000\n",
      "Epoch 69/100\n",
      "45/45 [==============================] - 2s 51ms/step - loss: 0.0892 - accuracy: 0.9689 - val_loss: 0.0273 - val_accuracy: 1.0000\n",
      "\n",
      "Epoch 00069: val_accuracy did not improve from 1.00000\n",
      "Epoch 70/100\n",
      "45/45 [==============================] - 2s 50ms/step - loss: 0.0783 - accuracy: 0.9661 - val_loss: 0.0437 - val_accuracy: 1.0000\n",
      "\n",
      "Epoch 00070: val_accuracy did not improve from 1.00000\n",
      "Epoch 71/100\n",
      "45/45 [==============================] - 2s 51ms/step - loss: 0.0732 - accuracy: 0.9689 - val_loss: 0.0482 - val_accuracy: 1.0000\n",
      "\n",
      "Epoch 00071: val_accuracy did not improve from 1.00000\n",
      "Epoch 72/100\n",
      "45/45 [==============================] - 2s 51ms/step - loss: 0.1022 - accuracy: 0.9520 - val_loss: 0.0403 - val_accuracy: 0.9750\n",
      "\n",
      "Epoch 00072: val_accuracy did not improve from 1.00000\n",
      "Epoch 73/100\n",
      "45/45 [==============================] - 2s 51ms/step - loss: 0.1031 - accuracy: 0.9661 - val_loss: 0.0415 - val_accuracy: 1.0000\n",
      "\n",
      "Epoch 00073: val_accuracy did not improve from 1.00000\n",
      "Epoch 74/100\n",
      "45/45 [==============================] - 2s 52ms/step - loss: 0.0732 - accuracy: 0.9520 - val_loss: 0.0292 - val_accuracy: 1.0000\n",
      "\n",
      "Epoch 00074: val_accuracy did not improve from 1.00000\n",
      "Epoch 75/100\n",
      "45/45 [==============================] - 2s 50ms/step - loss: 0.0766 - accuracy: 0.9718 - val_loss: 0.0508 - val_accuracy: 1.0000\n",
      "\n",
      "Epoch 00075: val_accuracy did not improve from 1.00000\n",
      "Epoch 76/100\n",
      "45/45 [==============================] - 2s 52ms/step - loss: 0.0562 - accuracy: 0.9746 - val_loss: 0.0200 - val_accuracy: 1.0000\n",
      "\n",
      "Epoch 00076: val_accuracy did not improve from 1.00000\n"
     ]
    }
   ],
   "source": [
    "hist = model.fit(train_images, train_labels, validation_data = (validation_images, validation_labels), callbacks=callbacks_list, batch_size = 8, epochs = 100, shuffle=True)"
   ]
  },
  {
   "cell_type": "code",
   "execution_count": 27,
   "id": "b788b011-e438-4da6-8327-503351914b49",
   "metadata": {
    "tags": []
   },
   "outputs": [
    {
     "name": "stdout",
     "output_type": "stream",
     "text": [
      "20/20 [==============================] - 1s 19ms/step - loss: 0.0200 - accuracy: 1.0000\n"
     ]
    },
    {
     "data": {
      "text/plain": [
       "[0.020042937248945236, 1.0]"
      ]
     },
     "execution_count": 27,
     "metadata": {},
     "output_type": "execute_result"
    }
   ],
   "source": [
    "model.evaluate(x=validation_images, y= validation_labels, batch_size=2)"
   ]
  },
  {
   "cell_type": "code",
   "execution_count": 28,
   "id": "faa1339f-ff8f-407a-8d79-b1327c959f3a",
   "metadata": {},
   "outputs": [
    {
     "name": "stdout",
     "output_type": "stream",
     "text": [
      "22/22 [==============================] - 0s 17ms/step - loss: 0.0109 - accuracy: 1.0000\n"
     ]
    },
    {
     "data": {
      "text/plain": [
       "[0.010853629559278488, 1.0]"
      ]
     },
     "execution_count": 28,
     "metadata": {},
     "output_type": "execute_result"
    }
   ],
   "source": [
    "model.evaluate(x=test_images, y= test_labels, batch_size=2)"
   ]
  },
  {
   "cell_type": "markdown",
   "id": "e8e8e6d1-f5bc-499e-a418-ed1050cd422e",
   "metadata": {},
   "source": [
    "#### Finding Confusion Matrix"
   ]
  },
  {
   "cell_type": "code",
   "execution_count": 29,
   "id": "fe846821-c995-4317-8ada-e07ae2e2cbfe",
   "metadata": {},
   "outputs": [
    {
     "name": "stdout",
     "output_type": "stream",
     "text": [
      "[[ 7  0  0]\n",
      " [ 0 13  0]\n",
      " [ 0  0 20]]\n"
     ]
    }
   ],
   "source": [
    "predictions = model.predict(validation_images)\n",
    "predictions_labels = np.argmax(predictions, axis=1)\n",
    "validation_labels = np.argmax(validation_labels, axis=1)\n",
    "cfm = confusion_matrix(validation_labels, predictions_labels)\n",
    "print (cfm)"
   ]
  },
  {
   "cell_type": "code",
   "execution_count": null,
   "id": "e23b0dc8-6f55-4b85-b78e-dabf7f348a8d",
   "metadata": {},
   "outputs": [],
   "source": []
  }
 ],
 "metadata": {
  "kernelspec": {
   "display_name": "Python 3 (ipykernel)",
   "language": "python",
   "name": "python3"
  },
  "language_info": {
   "codemirror_mode": {
    "name": "ipython",
    "version": 3
   },
   "file_extension": ".py",
   "mimetype": "text/x-python",
   "name": "python",
   "nbconvert_exporter": "python",
   "pygments_lexer": "ipython3",
   "version": "3.9.7"
  }
 },
 "nbformat": 4,
 "nbformat_minor": 5
}
