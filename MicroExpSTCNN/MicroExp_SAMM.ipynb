{
 "cells": [
  {
   "cell_type": "markdown",
   "id": "5258058e",
   "metadata": {
    "tags": []
   },
   "source": [
    "### Import Statements"
   ]
  },
  {
   "cell_type": "code",
   "execution_count": 1,
   "id": "e3488caa-5a30-4876-b352-5ae8a93afcbd",
   "metadata": {},
   "outputs": [],
   "source": [
    "import os\n",
    "import cv2\n",
    "import pandas as pd\n",
    "import numpy as np\n",
    "import imageio\n",
    "from imageio import v3 as Im\n",
    "from sklearn.metrics import confusion_matrix\n",
    "from keras.models import Sequential\n",
    "from keras.layers.core import Dense, Dropout, Activation, Flatten\n",
    "from keras.layers.convolutional import Convolution3D, MaxPooling3D\n",
    "from keras.optimizers import SGD, RMSprop\n",
    "from keras.callbacks import ModelCheckpoint\n",
    "from keras.utils import np_utils, generic_utils\n",
    "from sklearn.model_selection import train_test_split\n",
    "from sklearn.metrics import confusion_matrix\n",
    "from sklearn import preprocessing\n",
    "from keras import backend as K\n",
    "import sys\n",
    "import tensorflow as tf"
   ]
  },
  {
   "cell_type": "markdown",
   "id": "1c8ca99e",
   "metadata": {},
   "source": [
    "### GPU Check"
   ]
  },
  {
   "cell_type": "code",
   "execution_count": 2,
   "id": "4776d902",
   "metadata": {},
   "outputs": [],
   "source": [
    "gpu_available = tf.config.list_physical_devices('GPU')"
   ]
  },
  {
   "cell_type": "code",
   "execution_count": 3,
   "id": "6afb8ff5",
   "metadata": {},
   "outputs": [
    {
     "data": {
      "text/plain": [
       "[PhysicalDevice(name='/physical_device:GPU:0', device_type='GPU')]"
      ]
     },
     "execution_count": 3,
     "metadata": {},
     "output_type": "execute_result"
    }
   ],
   "source": [
    "gpu_available"
   ]
  },
  {
   "cell_type": "code",
   "execution_count": 4,
   "id": "7f82c1c0",
   "metadata": {
    "scrolled": true
   },
   "outputs": [
    {
     "name": "stdout",
     "output_type": "stream",
     "text": [
      "Num GPUs Available:  1\n"
     ]
    }
   ],
   "source": [
    "import tensorflow as tf\n",
    "print(\"Num GPUs Available: \", len(tf.config.list_physical_devices('GPU')))"
   ]
  },
  {
   "cell_type": "code",
   "execution_count": 5,
   "id": "9ff91c2d-6d23-4632-862b-3ea95e1b8436",
   "metadata": {},
   "outputs": [],
   "source": [
    "#K.set_image_dim_ordering('th')\n",
    "K.set_image_data_format('channels_first')"
   ]
  },
  {
   "cell_type": "markdown",
   "id": "c5c48a2a",
   "metadata": {
    "tags": []
   },
   "source": [
    "### Loading Excel to DataFrame"
   ]
  },
  {
   "cell_type": "code",
   "execution_count": 6,
   "id": "c404bb4c",
   "metadata": {},
   "outputs": [],
   "source": [
    "df = pd.read_excel('/Thesis/Datasets/SAMM_Sample.xlsx', index_col=0)"
   ]
  },
  {
   "cell_type": "code",
   "execution_count": 7,
   "id": "5e51a32c",
   "metadata": {},
   "outputs": [
    {
     "data": {
      "text/plain": [
       "Filename             159\n",
       "Inducement Code      159\n",
       "Onset Frame          159\n",
       "Apex Frame           159\n",
       "Offset Frame         159\n",
       "Duration             159\n",
       "Micro                159\n",
       "Action Units         159\n",
       "Estimated Emotion    159\n",
       "Objective Classes    159\n",
       "Notes                 61\n",
       "dtype: int64"
      ]
     },
     "execution_count": 7,
     "metadata": {},
     "output_type": "execute_result"
    }
   ],
   "source": [
    "df.count()"
   ]
  },
  {
   "cell_type": "code",
   "execution_count": 8,
   "id": "7a2cfc96",
   "metadata": {},
   "outputs": [
    {
     "data": {
      "text/html": [
       "<div>\n",
       "<style scoped>\n",
       "    .dataframe tbody tr th:only-of-type {\n",
       "        vertical-align: middle;\n",
       "    }\n",
       "\n",
       "    .dataframe tbody tr th {\n",
       "        vertical-align: top;\n",
       "    }\n",
       "\n",
       "    .dataframe thead th {\n",
       "        text-align: right;\n",
       "    }\n",
       "</style>\n",
       "<table border=\"1\" class=\"dataframe\">\n",
       "  <thead>\n",
       "    <tr style=\"text-align: right;\">\n",
       "      <th></th>\n",
       "      <th>Filename</th>\n",
       "      <th>Inducement Code</th>\n",
       "      <th>Onset Frame</th>\n",
       "      <th>Apex Frame</th>\n",
       "      <th>Offset Frame</th>\n",
       "      <th>Duration</th>\n",
       "      <th>Micro</th>\n",
       "      <th>Action Units</th>\n",
       "      <th>Estimated Emotion</th>\n",
       "      <th>Objective Classes</th>\n",
       "      <th>Notes</th>\n",
       "    </tr>\n",
       "    <tr>\n",
       "      <th>Subject</th>\n",
       "      <th></th>\n",
       "      <th></th>\n",
       "      <th></th>\n",
       "      <th></th>\n",
       "      <th></th>\n",
       "      <th></th>\n",
       "      <th></th>\n",
       "      <th></th>\n",
       "      <th></th>\n",
       "      <th></th>\n",
       "      <th></th>\n",
       "    </tr>\n",
       "  </thead>\n",
       "  <tbody>\n",
       "    <tr>\n",
       "      <th>6</th>\n",
       "      <td>006_1_2</td>\n",
       "      <td>1</td>\n",
       "      <td>5562</td>\n",
       "      <td>5588</td>\n",
       "      <td>5632</td>\n",
       "      <td>71</td>\n",
       "      <td>Micro - 1/2</td>\n",
       "      <td>4+7</td>\n",
       "      <td>Anger</td>\n",
       "      <td>3</td>\n",
       "      <td>NaN</td>\n",
       "    </tr>\n",
       "    <tr>\n",
       "      <th>6</th>\n",
       "      <td>006_1_3</td>\n",
       "      <td>1</td>\n",
       "      <td>3912</td>\n",
       "      <td>3948</td>\n",
       "      <td>3988</td>\n",
       "      <td>77</td>\n",
       "      <td>Micro - 1/2</td>\n",
       "      <td>4</td>\n",
       "      <td>Anger</td>\n",
       "      <td>3</td>\n",
       "      <td>While blinking</td>\n",
       "    </tr>\n",
       "    <tr>\n",
       "      <th>6</th>\n",
       "      <td>006_1_4</td>\n",
       "      <td>1</td>\n",
       "      <td>2324</td>\n",
       "      <td>2368</td>\n",
       "      <td>2403</td>\n",
       "      <td>80</td>\n",
       "      <td>Micro - 1/2</td>\n",
       "      <td>4+7</td>\n",
       "      <td>Anger</td>\n",
       "      <td>3</td>\n",
       "      <td>NaN</td>\n",
       "    </tr>\n",
       "    <tr>\n",
       "      <th>6</th>\n",
       "      <td>006_1_5</td>\n",
       "      <td>1</td>\n",
       "      <td>5343</td>\n",
       "      <td>5388</td>\n",
       "      <td>5424</td>\n",
       "      <td>82</td>\n",
       "      <td>Micro - 1/2</td>\n",
       "      <td>4+7</td>\n",
       "      <td>Anger</td>\n",
       "      <td>3</td>\n",
       "      <td>NaN</td>\n",
       "    </tr>\n",
       "    <tr>\n",
       "      <th>6</th>\n",
       "      <td>006_1_6</td>\n",
       "      <td>1</td>\n",
       "      <td>7160</td>\n",
       "      <td>7197</td>\n",
       "      <td>7259</td>\n",
       "      <td>100</td>\n",
       "      <td>Micro - 1/2</td>\n",
       "      <td>4+7+43</td>\n",
       "      <td>Anger</td>\n",
       "      <td>7</td>\n",
       "      <td>Double AU4</td>\n",
       "    </tr>\n",
       "  </tbody>\n",
       "</table>\n",
       "</div>"
      ],
      "text/plain": [
       "        Filename  Inducement Code  Onset Frame  Apex Frame  Offset Frame  \\\n",
       "Subject                                                                    \n",
       "6        006_1_2                1         5562        5588          5632   \n",
       "6        006_1_3                1         3912        3948          3988   \n",
       "6        006_1_4                1         2324        2368          2403   \n",
       "6        006_1_5                1         5343        5388          5424   \n",
       "6        006_1_6                1         7160        7197          7259   \n",
       "\n",
       "         Duration        Micro Action Units Estimated Emotion  \\\n",
       "Subject                                                         \n",
       "6              71  Micro - 1/2          4+7             Anger   \n",
       "6              77  Micro - 1/2            4             Anger   \n",
       "6              80  Micro - 1/2          4+7             Anger   \n",
       "6              82  Micro - 1/2          4+7             Anger   \n",
       "6             100  Micro - 1/2       4+7+43             Anger   \n",
       "\n",
       "         Objective Classes           Notes  \n",
       "Subject                                     \n",
       "6                        3             NaN  \n",
       "6                        3  While blinking  \n",
       "6                        3             NaN  \n",
       "6                        3             NaN  \n",
       "6                        7      Double AU4  "
      ]
     },
     "execution_count": 8,
     "metadata": {},
     "output_type": "execute_result"
    }
   ],
   "source": [
    "df.head()"
   ]
  },
  {
   "cell_type": "code",
   "execution_count": 8,
   "id": "ed366712",
   "metadata": {},
   "outputs": [
    {
     "name": "stdout",
     "output_type": "stream",
     "text": [
      "Positive : 26\n",
      "Negative : 92\n",
      "Surprise : 15\n"
     ]
    }
   ],
   "source": [
    "positive = df[df['Estimated Emotion'] == 'Happiness']['Filename']\n",
    "print('Positive :', positive.count())\n",
    "\n",
    "negative = df[(df['Estimated Emotion'] == 'Anger') | (df['Estimated Emotion'] == 'Sadness') | (df['Estimated Emotion'] == 'Fear') | (df['Estimated Emotion'] == 'Disgust') | (df['Estimated Emotion'] == 'Contempt')]['Filename']\n",
    "print('Negative :',negative.count())\n",
    "\n",
    "surprise = df[df['Estimated Emotion'] == 'Surprise']['Filename']\n",
    "print('Surprise :',surprise.count())"
   ]
  },
  {
   "cell_type": "markdown",
   "id": "6189a2a8",
   "metadata": {
    "tags": []
   },
   "source": [
    "### Initialization"
   ]
  },
  {
   "cell_type": "code",
   "execution_count": 9,
   "id": "c15212b9",
   "metadata": {},
   "outputs": [],
   "source": [
    "subjectPath = '/Thesis/Datasets/SAMM'"
   ]
  },
  {
   "cell_type": "code",
   "execution_count": 10,
   "id": "bfc86eae",
   "metadata": {},
   "outputs": [],
   "source": [
    "image_rows, image_columns, frames_Count = 64, 64, 40\n",
    "training_samm_list = []"
   ]
  },
  {
   "cell_type": "markdown",
   "id": "0a03793a",
   "metadata": {
    "tags": []
   },
   "source": [
    "### SAMM Dataset"
   ]
  },
  {
   "cell_type": "code",
   "execution_count": 11,
   "id": "c5715265",
   "metadata": {},
   "outputs": [
    {
     "name": "stdout",
     "output_type": "stream",
     "text": [
      "290\n",
      "744\n",
      "96\n"
     ]
    }
   ],
   "source": [
    "for lab in [positive, negative, surprise]:\n",
    "    subDirectory = lab#.tolist() \n",
    "    count = 0\n",
    "    for sub in subDirectory:\n",
    "        labelpath = '/Thesis/Datasets/SAMM/'+ sub[:3] +'/'# + sub + '/'\n",
    "        directorylisting = os.listdir(labelpath)\n",
    "        #count = count + 1\n",
    "        #print(directorylisting)\n",
    "        #break\n",
    "        for video in directorylisting:\n",
    "            videopath = labelpath + video\n",
    "            frames = []\n",
    "            framelisting = os.listdir(videopath)\n",
    "            #loadedvideo = Im.get_reader(videopath, format='FFMPEG' )#, 'ffmpeg')\n",
    "            if len(framelisting) > frames_Count:\n",
    "                framerange = [x  for x in range(frames_Count)]\n",
    "                count = count + 1\n",
    "                for frame in framerange:\n",
    "                    #image = loadedvideo.get_data(frame)\n",
    "                    imagepath = videopath + \"/\" + framelisting[frame]\n",
    "                    image = cv2.imread(imagepath)\n",
    "                    imageresize = cv2.resize(image, (image_rows, image_columns), interpolation = cv2.INTER_AREA)\n",
    "                    grayimage = cv2.cvtColor(imageresize, cv2.COLOR_BGR2GRAY)\n",
    "                    frames.append(grayimage)\n",
    "                    # break\n",
    "                frames = np.asarray(frames)\n",
    "                videoarray = np.rollaxis(np.rollaxis(frames, 2, 0), 2, 0)\n",
    "                training_samm_list.append(videoarray)\n",
    "                # break\n",
    "    \n",
    "    print(count)\n",
    "    # break"
   ]
  },
  {
   "cell_type": "code",
   "execution_count": 12,
   "id": "c0526a17",
   "metadata": {},
   "outputs": [
    {
     "data": {
      "text/plain": [
       "1130"
      ]
     },
     "execution_count": 12,
     "metadata": {},
     "output_type": "execute_result"
    }
   ],
   "source": [
    "len(training_samm_list)"
   ]
  },
  {
   "cell_type": "code",
   "execution_count": 13,
   "id": "7ee108b0",
   "metadata": {},
   "outputs": [
    {
     "data": {
      "text/plain": [
       "1034"
      ]
     },
     "execution_count": 13,
     "metadata": {},
     "output_type": "execute_result"
    }
   ],
   "source": [
    "290+744"
   ]
  },
  {
   "cell_type": "markdown",
   "id": "44adb646",
   "metadata": {
    "tags": []
   },
   "source": [
    "### Creating Target labels"
   ]
  },
  {
   "cell_type": "code",
   "execution_count": 15,
   "id": "379871d2",
   "metadata": {
    "tags": []
   },
   "outputs": [],
   "source": [
    "training_samm_list = np.asarray(training_samm_list)\n",
    "training_samm_samples = len(training_samm_list)\n",
    "\n",
    "training_samm_labels = np.zeros((training_samm_samples, ), dtype = int)\n",
    "\n",
    "training_samm_labels[0:290] = 0\n",
    "training_samm_labels[290:1034] = 1\n",
    "training_samm_labels[1034:1130] = 2\n",
    "\n",
    "training_samm_labels = np_utils.to_categorical(training_samm_labels, 3)"
   ]
  },
  {
   "cell_type": "code",
   "execution_count": 17,
   "id": "6ef4745f-6e6d-4000-b378-abfa73689d7a",
   "metadata": {},
   "outputs": [],
   "source": [
    "training_samm_data = [training_samm_list, training_samm_labels]\n",
    "(training_frames_samm, traininglabels_samm) = (training_samm_data[0], training_samm_data[1])\n",
    "training_samm_set = np.zeros((training_samm_samples, 1, image_rows, image_columns, frames_Count))\n",
    "for h in range(training_samm_samples):\n",
    "    training_samm_set[h][0][:][:][:] = training_frames_samm[h,:,:,:]"
   ]
  },
  {
   "cell_type": "code",
   "execution_count": 19,
   "id": "1bbcd11f-857c-411e-8ef2-4f42e4c84ef2",
   "metadata": {},
   "outputs": [],
   "source": [
    "training_samm_set = training_samm_set.astype('float32')\n",
    "training_samm_set -= np.mean(training_samm_set)\n",
    "training_samm_set /= np.max(training_samm_set)"
   ]
  },
  {
   "cell_type": "code",
   "execution_count": 20,
   "id": "b048a165",
   "metadata": {},
   "outputs": [
    {
     "data": {
      "text/plain": [
       "(1130, 1, 64, 64, 40)"
      ]
     },
     "execution_count": 20,
     "metadata": {},
     "output_type": "execute_result"
    }
   ],
   "source": [
    "training_samm_set.shape"
   ]
  },
  {
   "cell_type": "markdown",
   "id": "f5ed54da",
   "metadata": {
    "tags": []
   },
   "source": [
    "#### Save Numpy Arrays"
   ]
  },
  {
   "cell_type": "code",
   "execution_count": 21,
   "id": "1edc8d28",
   "metadata": {},
   "outputs": [],
   "source": [
    "# Save Nump Arrays to save time\n",
    "np.save('/Thesis/MicroExpSTCNN/Training_dataset/microexp_samm_images.npy', training_samm_set)\n",
    "np.save('/Thesis/MicroExpSTCNN/Training_dataset/microexp_samm_labels.npy', training_samm_labels)"
   ]
  },
  {
   "cell_type": "markdown",
   "id": "c09e6e89",
   "metadata": {
    "tags": []
   },
   "source": [
    "#### Loading Numpy arrays"
   ]
  },
  {
   "cell_type": "code",
   "execution_count": 22,
   "id": "228e4dc7",
   "metadata": {},
   "outputs": [
    {
     "data": {
      "text/plain": [
       "(1130, 1, 64, 64, 40)"
      ]
     },
     "execution_count": 22,
     "metadata": {},
     "output_type": "execute_result"
    }
   ],
   "source": [
    "training_samm_set = None\n",
    "training_samm_labels = None\n",
    "training_samm_set  = np.load('/Thesis/MicroExpSTCNN/Training_dataset/microexp_samm_images.npy')\n",
    "training_samm_labels = np.load('/Thesis/MicroExpSTCNN/Training_dataset/microexp_samm_labels.npy')\n",
    "\n",
    "training_samm_set.shape"
   ]
  },
  {
   "cell_type": "markdown",
   "id": "58ee2992-0b6b-4542-bf33-32e6ab8d9c1c",
   "metadata": {},
   "source": [
    "### Model"
   ]
  },
  {
   "cell_type": "code",
   "execution_count": 23,
   "id": "4e177ced-d4eb-4004-8fbf-aa1609d1fb59",
   "metadata": {},
   "outputs": [
    {
     "name": "stdout",
     "output_type": "stream",
     "text": [
      "Model: \"sequential\"\n",
      "_________________________________________________________________\n",
      "Layer (type)                 Output Shape              Param #   \n",
      "=================================================================\n",
      "conv3d (Conv3D)              (None, 32, 62, 62, 26)    4352      \n",
      "_________________________________________________________________\n",
      "max_pooling3d (MaxPooling3D) (None, 32, 20, 20, 8)     0         \n",
      "_________________________________________________________________\n",
      "dropout (Dropout)            (None, 32, 20, 20, 8)     0         \n",
      "_________________________________________________________________\n",
      "flatten (Flatten)            (None, 102400)            0         \n",
      "_________________________________________________________________\n",
      "dense (Dense)                (None, 128)               13107328  \n",
      "_________________________________________________________________\n",
      "dropout_1 (Dropout)          (None, 128)               0         \n",
      "_________________________________________________________________\n",
      "dense_1 (Dense)              (None, 3)                 387       \n",
      "_________________________________________________________________\n",
      "activation (Activation)      (None, 3)                 0         \n",
      "=================================================================\n",
      "Total params: 13,112,067\n",
      "Trainable params: 13,112,067\n",
      "Non-trainable params: 0\n",
      "_________________________________________________________________\n"
     ]
    }
   ],
   "source": [
    "model = Sequential()\n",
    "model.add(Convolution3D(32, (3, 3, 15), input_shape=(1, image_rows, image_columns, frames_Count), activation='relu'))\n",
    "model.add(MaxPooling3D(pool_size=(3, 3, 3)))\n",
    "model.add(Dropout(0.5))\n",
    "model.add(Flatten())\n",
    "model.add(Dense(128, activation='relu'))\n",
    "model.add(Dropout(0.5))\n",
    "model.add(Dense(3))\n",
    "model.add(Activation('softmax'))\n",
    "model.compile(loss = 'categorical_crossentropy', optimizer = 'SGD', metrics = ['accuracy'])\n",
    "\n",
    "model.summary()"
   ]
  },
  {
   "cell_type": "code",
   "execution_count": 12,
   "id": "f8fd97a8-872f-4d11-98d4-62d810658b2c",
   "metadata": {},
   "outputs": [],
   "source": [
    "# Load pre-trained weights\n",
    "\n",
    "#model.load_weights('/Thesis/MicroExpSTCNN/Training_dataset/weights_microexpstcnn/weights-improvement-53-0.88.hdf5')\n",
    "\n",
    "#model.load_weights('/Thesis/MicroExpSTCNN/CASME_SQUARE/weights-improvement-53-0.88.hdf5')"
   ]
  },
  {
   "cell_type": "markdown",
   "id": "db381c68-91cc-4952-ab00-b3bfc56c9e2a",
   "metadata": {},
   "source": [
    "#### Creating checkpoints"
   ]
  },
  {
   "cell_type": "code",
   "execution_count": 24,
   "id": "bf22e16a-8566-41f6-acc1-de5461aa377a",
   "metadata": {},
   "outputs": [],
   "source": [
    "filepath=\"/Thesis/MicroExpSTCNN/Training_dataset/weights_microexpstcnn/weights-improvement-{epoch:02d}-{val_accuracy:.2f}.hdf5\"\n",
    "checkpoint = ModelCheckpoint(filepath, monitor='val_accuracy', verbose=1, save_best_only=True, mode='max')\n",
    "callbacks_list = [checkpoint]"
   ]
  },
  {
   "cell_type": "markdown",
   "id": "b36ebf60-8672-496d-8826-d2aeffb3613f",
   "metadata": {},
   "source": [
    "#### Spliting the dataset into training and validation sets"
   ]
  },
  {
   "cell_type": "code",
   "execution_count": 25,
   "id": "b8f58faf-02e2-4c4e-a119-0237d4a01c5a",
   "metadata": {},
   "outputs": [],
   "source": [
    "train_images, validation_images, train_labels, validation_labels =  train_test_split(training_samm_set, training_samm_labels, test_size=0.2, random_state=4)"
   ]
  },
  {
   "cell_type": "markdown",
   "id": "d9377792-a982-44da-b41e-205dc1c1728e",
   "metadata": {},
   "source": [
    "#### Save validation set in a numpy array"
   ]
  },
  {
   "cell_type": "code",
   "execution_count": 26,
   "id": "31f8f595-6f21-4706-8d48-ac2ef4dd8df1",
   "metadata": {},
   "outputs": [],
   "source": [
    "np.save('/Thesis/MicroExpSTCNN/Training_dataset/microexpstcnn_val_images.npy', validation_images)\n",
    "np.save('/Thesis/MicroExpSTCNN/Training_dataset/microexpstcnn_val_labels.npy', validation_labels)"
   ]
  },
  {
   "cell_type": "markdown",
   "id": "ac01c86c-82f3-46e8-8691-c8b76858d7a4",
   "metadata": {},
   "source": [
    "#### Load validation set from numpy array"
   ]
  },
  {
   "cell_type": "code",
   "execution_count": 27,
   "id": "5ea8e320-8ec7-4748-ab3c-d283cb654d5d",
   "metadata": {},
   "outputs": [],
   "source": [
    "validation_images = np.load('/Thesis/MicroExpSTCNN/Training_dataset/microexpstcnn_val_images.npy')\n",
    "validation_labels = np.load('/Thesis/MicroExpSTCNN/Training_dataset/microexpstcnn_val_labels.npy')"
   ]
  },
  {
   "cell_type": "markdown",
   "id": "57b06b58-41b5-47bb-89d5-33ce2d8bcb52",
   "metadata": {},
   "source": [
    "#### Pre-Trained data"
   ]
  },
  {
   "cell_type": "code",
   "execution_count": 15,
   "id": "b3ac83ae-6a53-419e-b8b0-593793ccc2e1",
   "metadata": {},
   "outputs": [],
   "source": [
    "#validation_images = np.load('/Thesis/MicroExpSTCNN/CASME_SQUARE/microexpstcnn_val_images.npy')\n",
    "#validation_labels = np.load('/Thesis/MicroExpSTCNN/CASME_SQUARE/microexpstcnn_val_labels.npy')"
   ]
  },
  {
   "cell_type": "markdown",
   "id": "37eeb2e1-108d-4fca-b6cc-9ffced1640ba",
   "metadata": {},
   "source": [
    "#### Training the model"
   ]
  },
  {
   "cell_type": "code",
   "execution_count": 28,
   "id": "ffd79389-9297-4c36-ab36-be7aac19f815",
   "metadata": {},
   "outputs": [
    {
     "name": "stdout",
     "output_type": "stream",
     "text": [
      "Epoch 1/100\n",
      "57/57 [==============================] - 6s 42ms/step - loss: 0.7970 - accuracy: 0.6571 - val_loss: 0.6938 - val_accuracy: 0.7257\n",
      "\n",
      "Epoch 00001: val_accuracy improved from -inf to 0.72566, saving model to /Thesis/MicroExpSTCNN/Training_dataset/weights_microexpstcnn\\weights-improvement-01-0.73.hdf5\n",
      "Epoch 2/100\n",
      "57/57 [==============================] - 2s 36ms/step - loss: 0.7072 - accuracy: 0.7035 - val_loss: 0.6083 - val_accuracy: 0.7345\n",
      "\n",
      "Epoch 00002: val_accuracy improved from 0.72566 to 0.73451, saving model to /Thesis/MicroExpSTCNN/Training_dataset/weights_microexpstcnn\\weights-improvement-02-0.73.hdf5\n",
      "Epoch 3/100\n",
      "57/57 [==============================] - 2s 36ms/step - loss: 0.6520 - accuracy: 0.7046 - val_loss: 0.6018 - val_accuracy: 0.6549\n",
      "\n",
      "Epoch 00003: val_accuracy did not improve from 0.73451\n",
      "Epoch 4/100\n",
      "57/57 [==============================] - 2s 36ms/step - loss: 0.6389 - accuracy: 0.7124 - val_loss: 0.6344 - val_accuracy: 0.7345\n",
      "\n",
      "Epoch 00004: val_accuracy did not improve from 0.73451\n",
      "Epoch 5/100\n",
      "57/57 [==============================] - 2s 36ms/step - loss: 0.6371 - accuracy: 0.7257 - val_loss: 0.5920 - val_accuracy: 0.7257\n",
      "\n",
      "Epoch 00005: val_accuracy did not improve from 0.73451\n",
      "Epoch 6/100\n",
      "57/57 [==============================] - 2s 36ms/step - loss: 0.6178 - accuracy: 0.7135 - val_loss: 0.5787 - val_accuracy: 0.7124\n",
      "\n",
      "Epoch 00006: val_accuracy did not improve from 0.73451\n",
      "Epoch 7/100\n",
      "57/57 [==============================] - 2s 36ms/step - loss: 0.5985 - accuracy: 0.7323 - val_loss: 0.5895 - val_accuracy: 0.7345\n",
      "\n",
      "Epoch 00007: val_accuracy did not improve from 0.73451\n",
      "Epoch 8/100\n",
      "57/57 [==============================] - 2s 36ms/step - loss: 0.6107 - accuracy: 0.7257 - val_loss: 0.5683 - val_accuracy: 0.7345\n",
      "\n",
      "Epoch 00008: val_accuracy did not improve from 0.73451\n",
      "Epoch 9/100\n",
      "57/57 [==============================] - 2s 37ms/step - loss: 0.5951 - accuracy: 0.7356 - val_loss: 0.5492 - val_accuracy: 0.7345\n",
      "\n",
      "Epoch 00009: val_accuracy did not improve from 0.73451\n",
      "Epoch 10/100\n",
      "57/57 [==============================] - 2s 37ms/step - loss: 0.5905 - accuracy: 0.7334 - val_loss: 0.5445 - val_accuracy: 0.7345\n",
      "\n",
      "Epoch 00010: val_accuracy did not improve from 0.73451\n",
      "Epoch 11/100\n",
      "57/57 [==============================] - 2s 37ms/step - loss: 0.6055 - accuracy: 0.7301 - val_loss: 0.5412 - val_accuracy: 0.7345\n",
      "\n",
      "Epoch 00011: val_accuracy did not improve from 0.73451\n",
      "Epoch 12/100\n",
      "57/57 [==============================] - 2s 37ms/step - loss: 0.5812 - accuracy: 0.7356 - val_loss: 0.6863 - val_accuracy: 0.6814\n",
      "\n",
      "Epoch 00012: val_accuracy did not improve from 0.73451\n",
      "Epoch 13/100\n",
      "57/57 [==============================] - 2s 37ms/step - loss: 0.5916 - accuracy: 0.7212 - val_loss: 0.5571 - val_accuracy: 0.6549\n",
      "\n",
      "Epoch 00013: val_accuracy did not improve from 0.73451\n",
      "Epoch 14/100\n",
      "57/57 [==============================] - 2s 37ms/step - loss: 0.5912 - accuracy: 0.7235 - val_loss: 0.5487 - val_accuracy: 0.7345\n",
      "\n",
      "Epoch 00014: val_accuracy did not improve from 0.73451\n",
      "Epoch 15/100\n",
      "57/57 [==============================] - 2s 37ms/step - loss: 0.5920 - accuracy: 0.7334 - val_loss: 0.5507 - val_accuracy: 0.7434\n",
      "\n",
      "Epoch 00015: val_accuracy improved from 0.73451 to 0.74336, saving model to /Thesis/MicroExpSTCNN/Training_dataset/weights_microexpstcnn\\weights-improvement-15-0.74.hdf5\n",
      "Epoch 16/100\n",
      "57/57 [==============================] - 2s 37ms/step - loss: 0.5731 - accuracy: 0.7389 - val_loss: 0.5476 - val_accuracy: 0.7389\n",
      "\n",
      "Epoch 00016: val_accuracy did not improve from 0.74336\n",
      "Epoch 17/100\n",
      "57/57 [==============================] - 2s 37ms/step - loss: 0.5829 - accuracy: 0.7378 - val_loss: 0.5594 - val_accuracy: 0.7301\n",
      "\n",
      "Epoch 00017: val_accuracy did not improve from 0.74336\n",
      "Epoch 18/100\n",
      "57/57 [==============================] - 2s 37ms/step - loss: 0.5792 - accuracy: 0.7423 - val_loss: 0.5376 - val_accuracy: 0.7389\n",
      "\n",
      "Epoch 00018: val_accuracy did not improve from 0.74336\n",
      "Epoch 19/100\n",
      "57/57 [==============================] - 2s 36ms/step - loss: 0.5832 - accuracy: 0.7378 - val_loss: 0.5519 - val_accuracy: 0.7389\n",
      "\n",
      "Epoch 00019: val_accuracy did not improve from 0.74336\n",
      "Epoch 20/100\n",
      "57/57 [==============================] - 2s 37ms/step - loss: 0.5829 - accuracy: 0.7367 - val_loss: 0.5423 - val_accuracy: 0.7389\n",
      "\n",
      "Epoch 00020: val_accuracy did not improve from 0.74336\n",
      "Epoch 21/100\n",
      "57/57 [==============================] - 2s 37ms/step - loss: 0.5770 - accuracy: 0.7412 - val_loss: 0.5475 - val_accuracy: 0.7345\n",
      "\n",
      "Epoch 00021: val_accuracy did not improve from 0.74336\n",
      "Epoch 22/100\n",
      "57/57 [==============================] - 2s 37ms/step - loss: 0.5687 - accuracy: 0.7367 - val_loss: 0.5704 - val_accuracy: 0.7345\n",
      "\n",
      "Epoch 00022: val_accuracy did not improve from 0.74336\n",
      "Epoch 23/100\n",
      "57/57 [==============================] - 2s 37ms/step - loss: 0.5821 - accuracy: 0.7389 - val_loss: 0.5449 - val_accuracy: 0.7389\n",
      "\n",
      "Epoch 00023: val_accuracy did not improve from 0.74336\n",
      "Epoch 24/100\n",
      "57/57 [==============================] - 2s 37ms/step - loss: 0.5751 - accuracy: 0.7378 - val_loss: 0.5422 - val_accuracy: 0.7389\n",
      "\n",
      "Epoch 00024: val_accuracy did not improve from 0.74336\n",
      "Epoch 25/100\n",
      "57/57 [==============================] - 2s 37ms/step - loss: 0.5725 - accuracy: 0.7412 - val_loss: 0.5576 - val_accuracy: 0.7301\n",
      "\n",
      "Epoch 00025: val_accuracy did not improve from 0.74336\n",
      "Epoch 26/100\n",
      "57/57 [==============================] - 2s 38ms/step - loss: 0.5609 - accuracy: 0.7423 - val_loss: 0.5386 - val_accuracy: 0.7389\n",
      "\n",
      "Epoch 00026: val_accuracy did not improve from 0.74336\n",
      "Epoch 27/100\n",
      "57/57 [==============================] - 2s 37ms/step - loss: 0.5588 - accuracy: 0.7423 - val_loss: 0.5523 - val_accuracy: 0.7389\n",
      "\n",
      "Epoch 00027: val_accuracy did not improve from 0.74336\n",
      "Epoch 28/100\n",
      "57/57 [==============================] - 2s 37ms/step - loss: 0.5608 - accuracy: 0.7378 - val_loss: 0.5451 - val_accuracy: 0.7389\n",
      "\n",
      "Epoch 00028: val_accuracy did not improve from 0.74336\n",
      "Epoch 29/100\n",
      "57/57 [==============================] - 2s 37ms/step - loss: 0.5638 - accuracy: 0.7389 - val_loss: 0.5393 - val_accuracy: 0.7301\n",
      "\n",
      "Epoch 00029: val_accuracy did not improve from 0.74336\n",
      "Epoch 30/100\n",
      "57/57 [==============================] - 2s 37ms/step - loss: 0.5609 - accuracy: 0.7423 - val_loss: 0.5496 - val_accuracy: 0.7389\n",
      "\n",
      "Epoch 00030: val_accuracy did not improve from 0.74336\n",
      "Epoch 31/100\n",
      "57/57 [==============================] - 2s 37ms/step - loss: 0.5663 - accuracy: 0.7423 - val_loss: 0.5535 - val_accuracy: 0.7389\n",
      "\n",
      "Epoch 00031: val_accuracy did not improve from 0.74336\n",
      "Epoch 32/100\n",
      "57/57 [==============================] - 2s 38ms/step - loss: 0.5611 - accuracy: 0.7345 - val_loss: 0.5396 - val_accuracy: 0.7301\n",
      "\n",
      "Epoch 00032: val_accuracy did not improve from 0.74336\n",
      "Epoch 33/100\n",
      "57/57 [==============================] - 2s 37ms/step - loss: 0.5672 - accuracy: 0.7412 - val_loss: 0.5426 - val_accuracy: 0.7434\n",
      "\n",
      "Epoch 00033: val_accuracy did not improve from 0.74336\n",
      "Epoch 34/100\n",
      "57/57 [==============================] - 2s 37ms/step - loss: 0.5741 - accuracy: 0.7356 - val_loss: 0.5327 - val_accuracy: 0.7345\n",
      "\n",
      "Epoch 00034: val_accuracy did not improve from 0.74336\n",
      "Epoch 35/100\n",
      "57/57 [==============================] - 2s 37ms/step - loss: 0.5719 - accuracy: 0.7378 - val_loss: 0.5425 - val_accuracy: 0.7389\n",
      "\n",
      "Epoch 00035: val_accuracy did not improve from 0.74336\n",
      "Epoch 36/100\n",
      "57/57 [==============================] - 2s 37ms/step - loss: 0.5540 - accuracy: 0.7423 - val_loss: 0.5427 - val_accuracy: 0.7389\n",
      "\n",
      "Epoch 00036: val_accuracy did not improve from 0.74336\n",
      "Epoch 37/100\n",
      "57/57 [==============================] - 2s 37ms/step - loss: 0.5569 - accuracy: 0.7367 - val_loss: 0.5459 - val_accuracy: 0.7389\n",
      "\n",
      "Epoch 00037: val_accuracy did not improve from 0.74336\n",
      "Epoch 38/100\n",
      "57/57 [==============================] - 2s 37ms/step - loss: 0.5618 - accuracy: 0.7423 - val_loss: 0.5582 - val_accuracy: 0.7389\n",
      "\n",
      "Epoch 00038: val_accuracy did not improve from 0.74336\n",
      "Epoch 39/100\n",
      "57/57 [==============================] - 2s 37ms/step - loss: 0.5675 - accuracy: 0.7434 - val_loss: 0.5506 - val_accuracy: 0.7301\n",
      "\n",
      "Epoch 00039: val_accuracy did not improve from 0.74336\n",
      "Epoch 40/100\n",
      "57/57 [==============================] - 2s 37ms/step - loss: 0.5604 - accuracy: 0.7412 - val_loss: 0.5619 - val_accuracy: 0.7301\n",
      "\n",
      "Epoch 00040: val_accuracy did not improve from 0.74336\n",
      "Epoch 41/100\n",
      "57/57 [==============================] - 2s 37ms/step - loss: 0.5631 - accuracy: 0.7345 - val_loss: 0.5468 - val_accuracy: 0.7434\n",
      "\n",
      "Epoch 00041: val_accuracy did not improve from 0.74336\n",
      "Epoch 42/100\n",
      "57/57 [==============================] - 2s 37ms/step - loss: 0.5557 - accuracy: 0.7423 - val_loss: 0.5494 - val_accuracy: 0.7389\n",
      "\n",
      "Epoch 00042: val_accuracy did not improve from 0.74336\n",
      "Epoch 43/100\n",
      "57/57 [==============================] - 2s 37ms/step - loss: 0.5680 - accuracy: 0.7378 - val_loss: 0.5438 - val_accuracy: 0.7389\n",
      "\n",
      "Epoch 00043: val_accuracy did not improve from 0.74336\n",
      "Epoch 44/100\n",
      "57/57 [==============================] - 2s 37ms/step - loss: 0.5573 - accuracy: 0.7434 - val_loss: 0.5523 - val_accuracy: 0.7478\n",
      "\n",
      "Epoch 00044: val_accuracy improved from 0.74336 to 0.74779, saving model to /Thesis/MicroExpSTCNN/Training_dataset/weights_microexpstcnn\\weights-improvement-44-0.75.hdf5\n",
      "Epoch 45/100\n",
      "57/57 [==============================] - 2s 37ms/step - loss: 0.5621 - accuracy: 0.7412 - val_loss: 0.5479 - val_accuracy: 0.7389\n",
      "\n",
      "Epoch 00045: val_accuracy did not improve from 0.74779\n",
      "Epoch 46/100\n",
      "57/57 [==============================] - 2s 38ms/step - loss: 0.5637 - accuracy: 0.7412 - val_loss: 0.5507 - val_accuracy: 0.7301\n",
      "\n",
      "Epoch 00046: val_accuracy did not improve from 0.74779\n",
      "Epoch 47/100\n",
      "57/57 [==============================] - 2s 37ms/step - loss: 0.5634 - accuracy: 0.7423 - val_loss: 0.5436 - val_accuracy: 0.7301\n",
      "\n",
      "Epoch 00047: val_accuracy did not improve from 0.74779\n",
      "Epoch 48/100\n",
      "57/57 [==============================] - 2s 37ms/step - loss: 0.5695 - accuracy: 0.7412 - val_loss: 0.5404 - val_accuracy: 0.7389\n",
      "\n",
      "Epoch 00048: val_accuracy did not improve from 0.74779\n",
      "Epoch 49/100\n",
      "57/57 [==============================] - 2s 37ms/step - loss: 0.5511 - accuracy: 0.7445 - val_loss: 0.5644 - val_accuracy: 0.7389\n",
      "\n",
      "Epoch 00049: val_accuracy did not improve from 0.74779\n",
      "Epoch 50/100\n",
      "57/57 [==============================] - 2s 37ms/step - loss: 0.5706 - accuracy: 0.7412 - val_loss: 0.5536 - val_accuracy: 0.7389\n",
      "\n",
      "Epoch 00050: val_accuracy did not improve from 0.74779\n",
      "Epoch 51/100\n",
      "57/57 [==============================] - 2s 37ms/step - loss: 0.5635 - accuracy: 0.7312 - val_loss: 0.5411 - val_accuracy: 0.7301\n",
      "\n",
      "Epoch 00051: val_accuracy did not improve from 0.74779\n",
      "Epoch 52/100\n",
      "57/57 [==============================] - 2s 38ms/step - loss: 0.5626 - accuracy: 0.7445 - val_loss: 0.5536 - val_accuracy: 0.7389\n",
      "\n",
      "Epoch 00052: val_accuracy did not improve from 0.74779\n",
      "Epoch 53/100\n",
      "57/57 [==============================] - 2s 38ms/step - loss: 0.5635 - accuracy: 0.7434 - val_loss: 0.5544 - val_accuracy: 0.7301\n",
      "\n",
      "Epoch 00053: val_accuracy did not improve from 0.74779\n",
      "Epoch 54/100\n",
      "57/57 [==============================] - 2s 37ms/step - loss: 0.5584 - accuracy: 0.7434 - val_loss: 0.5489 - val_accuracy: 0.7389\n",
      "\n",
      "Epoch 00054: val_accuracy did not improve from 0.74779\n",
      "Epoch 55/100\n",
      "57/57 [==============================] - 2s 37ms/step - loss: 0.5655 - accuracy: 0.7423 - val_loss: 0.5449 - val_accuracy: 0.7301\n",
      "\n",
      "Epoch 00055: val_accuracy did not improve from 0.74779\n",
      "Epoch 56/100\n",
      "57/57 [==============================] - 2s 38ms/step - loss: 0.5501 - accuracy: 0.7423 - val_loss: 0.5491 - val_accuracy: 0.7478\n",
      "\n",
      "Epoch 00056: val_accuracy did not improve from 0.74779\n",
      "Epoch 57/100\n",
      "57/57 [==============================] - 2s 37ms/step - loss: 0.5606 - accuracy: 0.7400 - val_loss: 0.5500 - val_accuracy: 0.7434\n",
      "\n",
      "Epoch 00057: val_accuracy did not improve from 0.74779\n",
      "Epoch 58/100\n",
      "57/57 [==============================] - 2s 37ms/step - loss: 0.5559 - accuracy: 0.7445 - val_loss: 0.5561 - val_accuracy: 0.7301\n",
      "\n",
      "Epoch 00058: val_accuracy did not improve from 0.74779\n",
      "Epoch 59/100\n",
      "57/57 [==============================] - 2s 37ms/step - loss: 0.5530 - accuracy: 0.7467 - val_loss: 0.5433 - val_accuracy: 0.7389\n",
      "\n",
      "Epoch 00059: val_accuracy did not improve from 0.74779\n",
      "Epoch 60/100\n",
      "57/57 [==============================] - 2s 37ms/step - loss: 0.5506 - accuracy: 0.7423 - val_loss: 0.5680 - val_accuracy: 0.7478\n",
      "\n",
      "Epoch 00060: val_accuracy did not improve from 0.74779\n",
      "Epoch 61/100\n",
      "57/57 [==============================] - 2s 37ms/step - loss: 0.5631 - accuracy: 0.7400 - val_loss: 0.5437 - val_accuracy: 0.7389\n",
      "\n",
      "Epoch 00061: val_accuracy did not improve from 0.74779\n",
      "Epoch 62/100\n",
      "57/57 [==============================] - 2s 37ms/step - loss: 0.5561 - accuracy: 0.7467 - val_loss: 0.5396 - val_accuracy: 0.7389\n",
      "\n",
      "Epoch 00062: val_accuracy did not improve from 0.74779\n",
      "Epoch 63/100\n",
      "57/57 [==============================] - 2s 37ms/step - loss: 0.5497 - accuracy: 0.7412 - val_loss: 0.5585 - val_accuracy: 0.7389\n",
      "\n",
      "Epoch 00063: val_accuracy did not improve from 0.74779\n",
      "Epoch 64/100\n",
      "57/57 [==============================] - 2s 37ms/step - loss: 0.5569 - accuracy: 0.7434 - val_loss: 0.5529 - val_accuracy: 0.7301\n",
      "\n",
      "Epoch 00064: val_accuracy did not improve from 0.74779\n",
      "Epoch 65/100\n",
      "57/57 [==============================] - 2s 37ms/step - loss: 0.5571 - accuracy: 0.7367 - val_loss: 0.5600 - val_accuracy: 0.7389\n",
      "\n",
      "Epoch 00065: val_accuracy did not improve from 0.74779\n",
      "Epoch 66/100\n",
      "57/57 [==============================] - 2s 37ms/step - loss: 0.5611 - accuracy: 0.7434 - val_loss: 0.5461 - val_accuracy: 0.7301\n",
      "\n",
      "Epoch 00066: val_accuracy did not improve from 0.74779\n",
      "Epoch 67/100\n",
      "57/57 [==============================] - 2s 37ms/step - loss: 0.5632 - accuracy: 0.7356 - val_loss: 0.5385 - val_accuracy: 0.7301\n",
      "\n",
      "Epoch 00067: val_accuracy did not improve from 0.74779\n",
      "Epoch 68/100\n",
      "57/57 [==============================] - 2s 37ms/step - loss: 0.5539 - accuracy: 0.7423 - val_loss: 0.5394 - val_accuracy: 0.7301\n",
      "\n",
      "Epoch 00068: val_accuracy did not improve from 0.74779\n",
      "Epoch 69/100\n",
      "57/57 [==============================] - 2s 37ms/step - loss: 0.5558 - accuracy: 0.7389 - val_loss: 0.5464 - val_accuracy: 0.7389\n",
      "\n",
      "Epoch 00069: val_accuracy did not improve from 0.74779\n",
      "Epoch 70/100\n",
      "57/57 [==============================] - 2s 37ms/step - loss: 0.5530 - accuracy: 0.7434 - val_loss: 0.5452 - val_accuracy: 0.7389\n",
      "\n",
      "Epoch 00070: val_accuracy did not improve from 0.74779\n",
      "Epoch 71/100\n",
      "57/57 [==============================] - 2s 37ms/step - loss: 0.5564 - accuracy: 0.7434 - val_loss: 0.5525 - val_accuracy: 0.7301\n",
      "\n",
      "Epoch 00071: val_accuracy did not improve from 0.74779\n",
      "Epoch 72/100\n",
      "57/57 [==============================] - 2s 37ms/step - loss: 0.5584 - accuracy: 0.7445 - val_loss: 0.5477 - val_accuracy: 0.7389\n",
      "\n",
      "Epoch 00072: val_accuracy did not improve from 0.74779\n",
      "Epoch 73/100\n",
      "57/57 [==============================] - 2s 37ms/step - loss: 0.5547 - accuracy: 0.7378 - val_loss: 0.5476 - val_accuracy: 0.7301\n",
      "\n",
      "Epoch 00073: val_accuracy did not improve from 0.74779\n",
      "Epoch 74/100\n",
      "57/57 [==============================] - 2s 37ms/step - loss: 0.5501 - accuracy: 0.7412 - val_loss: 0.5566 - val_accuracy: 0.7478\n",
      "\n",
      "Epoch 00074: val_accuracy did not improve from 0.74779\n",
      "Epoch 75/100\n",
      "57/57 [==============================] - 2s 37ms/step - loss: 0.5550 - accuracy: 0.7456 - val_loss: 0.5647 - val_accuracy: 0.7434\n",
      "\n",
      "Epoch 00075: val_accuracy did not improve from 0.74779\n",
      "Epoch 76/100\n",
      "57/57 [==============================] - 2s 38ms/step - loss: 0.5623 - accuracy: 0.7400 - val_loss: 0.5549 - val_accuracy: 0.7389\n",
      "\n",
      "Epoch 00076: val_accuracy did not improve from 0.74779\n",
      "Epoch 77/100\n",
      "57/57 [==============================] - 2s 37ms/step - loss: 0.5520 - accuracy: 0.7500 - val_loss: 0.5516 - val_accuracy: 0.7434\n",
      "\n",
      "Epoch 00077: val_accuracy did not improve from 0.74779\n",
      "Epoch 78/100\n",
      "57/57 [==============================] - 2s 37ms/step - loss: 0.5626 - accuracy: 0.7445 - val_loss: 0.5476 - val_accuracy: 0.7345\n",
      "\n",
      "Epoch 00078: val_accuracy did not improve from 0.74779\n",
      "Epoch 79/100\n",
      "57/57 [==============================] - 2s 37ms/step - loss: 0.5520 - accuracy: 0.7345 - val_loss: 0.5570 - val_accuracy: 0.7389\n",
      "\n",
      "Epoch 00079: val_accuracy did not improve from 0.74779\n",
      "Epoch 80/100\n",
      "57/57 [==============================] - 2s 37ms/step - loss: 0.5548 - accuracy: 0.7367 - val_loss: 0.5462 - val_accuracy: 0.7389\n",
      "\n",
      "Epoch 00080: val_accuracy did not improve from 0.74779\n",
      "Epoch 81/100\n",
      "57/57 [==============================] - 2s 37ms/step - loss: 0.5564 - accuracy: 0.7423 - val_loss: 0.5461 - val_accuracy: 0.7389\n",
      "\n",
      "Epoch 00081: val_accuracy did not improve from 0.74779\n",
      "Epoch 82/100\n",
      "57/57 [==============================] - 2s 37ms/step - loss: 0.5590 - accuracy: 0.7423 - val_loss: 0.5415 - val_accuracy: 0.7389\n",
      "\n",
      "Epoch 00082: val_accuracy did not improve from 0.74779\n",
      "Epoch 83/100\n",
      "57/57 [==============================] - 2s 37ms/step - loss: 0.5520 - accuracy: 0.7467 - val_loss: 0.5442 - val_accuracy: 0.7389\n",
      "\n",
      "Epoch 00083: val_accuracy did not improve from 0.74779\n",
      "Epoch 84/100\n",
      "57/57 [==============================] - 2s 37ms/step - loss: 0.5485 - accuracy: 0.7456 - val_loss: 0.5769 - val_accuracy: 0.7434\n",
      "\n",
      "Epoch 00084: val_accuracy did not improve from 0.74779\n",
      "Epoch 85/100\n",
      "57/57 [==============================] - 2s 37ms/step - loss: 0.5574 - accuracy: 0.7456 - val_loss: 0.5677 - val_accuracy: 0.7389\n",
      "\n",
      "Epoch 00085: val_accuracy did not improve from 0.74779\n",
      "Epoch 86/100\n",
      "57/57 [==============================] - 2s 38ms/step - loss: 0.5577 - accuracy: 0.7423 - val_loss: 0.5725 - val_accuracy: 0.7434\n",
      "\n",
      "Epoch 00086: val_accuracy did not improve from 0.74779\n",
      "Epoch 87/100\n",
      "57/57 [==============================] - 2s 38ms/step - loss: 0.5557 - accuracy: 0.7378 - val_loss: 0.5596 - val_accuracy: 0.7389\n",
      "\n",
      "Epoch 00087: val_accuracy did not improve from 0.74779\n",
      "Epoch 88/100\n",
      "57/57 [==============================] - 2s 38ms/step - loss: 0.5533 - accuracy: 0.7367 - val_loss: 0.5557 - val_accuracy: 0.7301\n",
      "\n",
      "Epoch 00088: val_accuracy did not improve from 0.74779\n",
      "Epoch 89/100\n",
      "57/57 [==============================] - 2s 37ms/step - loss: 0.5573 - accuracy: 0.7434 - val_loss: 0.5616 - val_accuracy: 0.7478\n",
      "\n",
      "Epoch 00089: val_accuracy did not improve from 0.74779\n",
      "Epoch 90/100\n",
      "57/57 [==============================] - 2s 37ms/step - loss: 0.5576 - accuracy: 0.7423 - val_loss: 0.5586 - val_accuracy: 0.7389\n",
      "\n",
      "Epoch 00090: val_accuracy did not improve from 0.74779\n",
      "Epoch 91/100\n",
      "57/57 [==============================] - 2s 37ms/step - loss: 0.5492 - accuracy: 0.7389 - val_loss: 0.5514 - val_accuracy: 0.7389\n",
      "\n",
      "Epoch 00091: val_accuracy did not improve from 0.74779\n",
      "Epoch 92/100\n",
      "57/57 [==============================] - 2s 37ms/step - loss: 0.5563 - accuracy: 0.7367 - val_loss: 0.5660 - val_accuracy: 0.7301\n",
      "\n",
      "Epoch 00092: val_accuracy did not improve from 0.74779\n",
      "Epoch 93/100\n",
      "57/57 [==============================] - 2s 37ms/step - loss: 0.5541 - accuracy: 0.7445 - val_loss: 0.5494 - val_accuracy: 0.7389\n",
      "\n",
      "Epoch 00093: val_accuracy did not improve from 0.74779\n",
      "Epoch 94/100\n",
      "57/57 [==============================] - 2s 38ms/step - loss: 0.5532 - accuracy: 0.7389 - val_loss: 0.5692 - val_accuracy: 0.7434\n",
      "\n",
      "Epoch 00094: val_accuracy did not improve from 0.74779\n",
      "Epoch 95/100\n",
      "57/57 [==============================] - 2s 37ms/step - loss: 0.5532 - accuracy: 0.7467 - val_loss: 0.5679 - val_accuracy: 0.7389\n",
      "\n",
      "Epoch 00095: val_accuracy did not improve from 0.74779\n",
      "Epoch 96/100\n",
      "57/57 [==============================] - 2s 37ms/step - loss: 0.5519 - accuracy: 0.7434 - val_loss: 0.5537 - val_accuracy: 0.7301\n",
      "\n",
      "Epoch 00096: val_accuracy did not improve from 0.74779\n",
      "Epoch 97/100\n",
      "57/57 [==============================] - 2s 37ms/step - loss: 0.5486 - accuracy: 0.7467 - val_loss: 0.5614 - val_accuracy: 0.7389\n",
      "\n",
      "Epoch 00097: val_accuracy did not improve from 0.74779\n",
      "Epoch 98/100\n",
      "57/57 [==============================] - 2s 38ms/step - loss: 0.5513 - accuracy: 0.7434 - val_loss: 0.5798 - val_accuracy: 0.7389\n",
      "\n",
      "Epoch 00098: val_accuracy did not improve from 0.74779\n",
      "Epoch 99/100\n",
      "57/57 [==============================] - 2s 37ms/step - loss: 0.5472 - accuracy: 0.7412 - val_loss: 0.5644 - val_accuracy: 0.7301\n",
      "\n",
      "Epoch 00099: val_accuracy did not improve from 0.74779\n",
      "Epoch 100/100\n",
      "57/57 [==============================] - 2s 37ms/step - loss: 0.5550 - accuracy: 0.7434 - val_loss: 0.5583 - val_accuracy: 0.7389\n",
      "\n",
      "Epoch 00100: val_accuracy did not improve from 0.74779\n"
     ]
    }
   ],
   "source": [
    "hist = model.fit(train_images, train_labels, validation_data = (validation_images, validation_labels), callbacks=callbacks_list, batch_size = 16, epochs = 100, shuffle=True)\n"
   ]
  },
  {
   "cell_type": "markdown",
   "id": "e8e8e6d1-f5bc-499e-a418-ed1050cd422e",
   "metadata": {},
   "source": [
    "#### Finding Confusion Matrix"
   ]
  },
  {
   "cell_type": "code",
   "execution_count": 30,
   "id": "fe846821-c995-4317-8ada-e07ae2e2cbfe",
   "metadata": {},
   "outputs": [
    {
     "name": "stdout",
     "output_type": "stream",
     "text": [
      "[[ 23  35   0]\n",
      " [  9 142   0]\n",
      " [  5  10   2]]\n"
     ]
    }
   ],
   "source": [
    "predictions = model.predict(validation_images)\n",
    "predictions_labels = np.argmax(predictions, axis=1)\n",
    "validation_labels = np.argmax(validation_labels, axis=1)\n",
    "cfm = confusion_matrix(validation_labels, predictions_labels)\n",
    "print (cfm)"
   ]
  },
  {
   "cell_type": "code",
   "execution_count": null,
   "id": "517f4b3c-dfd8-47a4-b791-c94c5cdb4643",
   "metadata": {},
   "outputs": [],
   "source": []
  }
 ],
 "metadata": {
  "kernelspec": {
   "display_name": "Python 3 (ipykernel)",
   "language": "python",
   "name": "python3"
  },
  "language_info": {
   "codemirror_mode": {
    "name": "ipython",
    "version": 3
   },
   "file_extension": ".py",
   "mimetype": "text/x-python",
   "name": "python",
   "nbconvert_exporter": "python",
   "pygments_lexer": "ipython3",
   "version": "3.9.7"
  }
 },
 "nbformat": 4,
 "nbformat_minor": 5
}
